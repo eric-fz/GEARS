{
 "cells": [
  {
   "cell_type": "code",
   "execution_count": 517,
   "id": "1544d490",
   "metadata": {},
   "outputs": [],
   "source": [
    "# Import necessary libraries\n",
    "import numpy as np\n",
    "import scipy.sparse as sp\n",
    "import scipy.stats as ss\n",
    "import math\n",
    "import fractions\n",
    "import networkx as nx\n",
    "\n",
    "num_edge_features = 5\n",
    "num_node_features = 3\n",
    "connect_prob = 0.1"
   ]
  },
  {
   "cell_type": "code",
   "execution_count": 518,
   "id": "73b0bb5a",
   "metadata": {},
   "outputs": [],
   "source": [
    "# Lists of ISO standard modules and tooth numbers\n",
    "\n",
    "modules = [0.1, 0.2, 0.3, 0.4, 0.5, 0.6, 0.8, 1, 1.25, 1.5, 2, 2.5, 3, 4, 5, 6, 8, 10, 12, 16, 20, 25, 32, 40, 50,\n",
    "           0.15, 0.25, 0.35, 0.45, 0.55, 0.7, 0.75, 0.9, 1.75, 2.25, 2.75, 3.5, 4.5, 5.5, 7, 9, 11, 14, 18, 22, 28, 36, 45,\n",
    "           0.65, 3.25, 3.75, 6.5]\n",
    "teeth = [12, 13, 14, 15, 16, 17, 18, 19, 20, 21, 22, 23, 24, 25, 26, 27, 28, 29, 30, 31, 32, 33, 34, 35, 36, 37, 38, 39, 40, \n",
    "         41, 42, 43, 44, 45, 46, 47, 48, 49, 50, 51, 52, 53, 54, 55, 56, 57, 58, 59, 60, 61, 62, 63, 64, 65, 66, 67, 68, 69,\n",
    "         70, 72, 75, 76, 80, 85, 90, 95, 100, 110, 114, 120, 127]\n",
    "\n",
    "possible_ratios = {}"
   ]
  },
  {
   "cell_type": "code",
   "execution_count": 519,
   "id": "b26f2b15-733e-4296-9c81-d9fbb0c17744",
   "metadata": {},
   "outputs": [],
   "source": [
    "for i in range(len(teeth)):\n",
    "    for j in range(len(teeth)):\n",
    "        ratio = fractions.Fraction(teeth[i],teeth[j])\n",
    "        if ratio in possible_ratios:\n",
    "            possible_ratios[ratio].append([teeth[i],teeth[j]])\n",
    "        else:\n",
    "            possible_ratios[ratio] = []\n",
    "            possible_ratios[ratio].append([teeth[i],teeth[j]])\n",
    "            \n",
    "        ratio = fractions.Fraction(teeth[j],teeth[i])\n",
    "        if ratio in possible_ratios:\n",
    "            possible_ratios[ratio].append([teeth[j],teeth[i]])\n",
    "        else:\n",
    "            possible_ratios[ratio] = []\n",
    "            possible_ratios[ratio].append([teeth[j],teeth[i]])\n",
    "            \n",
    "for k in possible_ratios.keys():\n",
    "    possible_ratios[k] = np.unique(np.array(possible_ratios[k]),axis=0)"
   ]
  },
  {
   "cell_type": "code",
   "execution_count": 520,
   "id": "283554f3",
   "metadata": {},
   "outputs": [],
   "source": [
    "# Import necessary libraries\n",
    "import numpy as np\n",
    "import scipy.sparse as sp\n",
    "import scipy.stats as ss\n",
    "import math as math\n",
    "\n",
    "ef = 5\n",
    "nf = 3\n",
    "connect_prob = 0.1\n",
    "\n",
    "# Lists of ISO standard modules and tooth numbers\n",
    "\n",
    "modules = [0.1, 0.2, 0.3, 0.4, 0.5, 0.6, 0.8, 1, 1.25, 1.5, 2, 2.5, 3, 4, 5, 6, 8, 10, 12, 16, 20, 25, 32, 40, 50,\n",
    "           0.15, 0.25, 0.35, 0.45, 0.55, 0.7, 0.75, 0.9, 1.75, 2.25, 2.75, 3.5, 4.5, 5.5, 7, 9, 11, 14, 18, 22, 28, 36, 45,\n",
    "           0.65, 3.25, 3.75, 6.5]\n",
    "teeth = [12, 13, 14, 15, 16, 17, 18, 19, 20, 21, 22, 23, 24, 25, 26, 27, 28, 29, 30, 31, 32, 33, 34, 35, 36, 37, 38, 39, 40, \n",
    "         41, 42, 43, 44, 45, 46, 47, 48, 49, 50, 51, 52, 53, 54, 55, 56, 57, 58, 59, 60, 61, 62, 63, 64, 65, 66, 67, 68, 69,\n",
    "         70, 72, 75, 76, 80, 85, 90, 95, 100, 110, 114, 120, 127]\n",
    "\n",
    "# Choose int in a range from a normal distribution\n",
    "def normRange(low, high):\n",
    "    x = np.arange(low, high+1)\n",
    "    xU, xL = x + 0.5, x - 0.5 \n",
    "    prob = ss.norm.cdf(xU, loc = ((low+high)/2), scale = ((high-low)/5)) - ss.norm.cdf(xL, loc = ((low+high)/2), scale = ((high-low)/6))\n",
    "    prob = prob / prob.sum() # normalize the probabilities so their sum is 1\n",
    "    \n",
    "    return np.random.choice(x, p = prob)"
   ]
  },
  {
   "cell_type": "code",
   "execution_count": 521,
   "id": "ecc2e640",
   "metadata": {},
   "outputs": [],
   "source": [
    "def check_redundant(A,i):\n",
    "    v_ne = list(np.where(A[i,:,0])[0])\n",
    "    v_ne = list(set(v_ne))\n",
    "    \n",
    "    n_ne = len(v_ne)\n",
    "    \n",
    "    while True:\n",
    "        if 0 in v_ne and A.shape[0]-1 in v_ne:\n",
    "            return False\n",
    "        else:\n",
    "            v_ne += list(np.where(A[v_ne,:,0])[1])\n",
    "            v_ne = list(set(v_ne))\n",
    "            \n",
    "        if len(v_ne) == n_ne:\n",
    "            return True\n",
    "        else:\n",
    "            n_ne = len(v_ne)"
   ]
  },
  {
   "cell_type": "code",
   "execution_count": 522,
   "id": "957d869d",
   "metadata": {},
   "outputs": [],
   "source": [
    "def get_paths(A, u, n, visited, path, npaths):\n",
    "    # Mark the current node as visited and store in path\n",
    "    visited[u] = True\n",
    "    path.append(u)\n",
    "    # If current vertex is same as destination, then print\n",
    "    # current path[]\n",
    "    if u == n - 1:\n",
    "#         print(path)\n",
    "        npaths.append(list(path))\n",
    "    else:\n",
    "        # If current vertex is not destination\n",
    "        # Recur for all the vertices adjacent to this vertex\n",
    "        for i in list(np.where(A[u,:,0])[0]):\n",
    "            if visited[i] == False:\n",
    "                get_paths(A, i, n, visited, path, npaths)\n",
    "    # Remove current vertex from path[] and mark it as unvisited\n",
    "    path.pop()\n",
    "    visited[u]= False\n",
    "    \n",
    "def all_paths(A):\n",
    "    n = A.shape[0]\n",
    "    visited = [False]*(n)\n",
    "    path = []\n",
    "    npaths = []\n",
    "    grs = []\n",
    "    grlist = []\n",
    "    get_paths(A, 0, n, visited, path, npaths)\n",
    "    \n",
    "    return npaths\n",
    "\n",
    "def non_redundant_shafts(A):\n",
    "    paths = all_paths(A)\n",
    "    non_redundant_shafts = np.unique(np.concatenate(paths))\n",
    "    \n",
    "    return non_redundant_shafts"
   ]
  },
  {
   "cell_type": "code",
   "execution_count": 523,
   "id": "d08d4351-b020-4f77-9b6c-1e59c73bbe01",
   "metadata": {},
   "outputs": [],
   "source": [
    "def check_locking(A):\n",
    "    visited = [False]*(A.shape[0])\n",
    "    path = []\n",
    "    npaths = []\n",
    "    grs = []\n",
    "    grlist = []\n",
    "    get_paths(A, 0, A.shape[0], visited, path, npaths)\n",
    "    for i in npaths:\n",
    "        grt = 1\n",
    "        for j in range(len(i)):\n",
    "            gr = 0\n",
    "            if j < len(i)-1:\n",
    "                gr = (A[i[j], i[j+1], 3])/(A[i[j], i[j+1], 2])\n",
    "                grt *= gr\n",
    "                print(A[i[j], i[j+1], 3], A[i[j], i[j+1], 2])\n",
    "                grlist.append([])\n",
    "                grlist[j].append(gr)\n",
    "        grs.append(grt)\n",
    "        print(\"gear ratios list\", grlist)\n",
    "        print(\"total gear ratios\", grs)\n",
    "    return npaths"
   ]
  },
  {
   "cell_type": "code",
   "execution_count": 524,
   "id": "048915f4-d8c8-4032-9c38-7c968ed237d5",
   "metadata": {},
   "outputs": [],
   "source": [
    "def calculate_omega(A):\n",
    "    Omega = [-1]*A.shape[0]\n",
    "    Omega[0] = fractions.Fraction(1,1)\n",
    "    \n",
    "    active_list = [0]\n",
    "    visited_list = []\n",
    "    while True:\n",
    "        new_active_list = []\n",
    "        for i in active_list:\n",
    "            new_active_list += list(np.where(A[i,:,0])[0])\n",
    "            for j in np.where(A[i,:,0])[0]:\n",
    "                omega = -Omega[i] * fractions.Fraction(int(A[i,j,2]),int(A[i,j,3]))\n",
    "                if Omega[j] == -1:\n",
    "                    Omega[j] = omega\n",
    "        visited_list += active_list\n",
    "        active_list = np.array(list(set(new_active_list)))\n",
    "        active_list = list(active_list[np.logical_not(np.isin(active_list,visited_list))])\n",
    "        \n",
    "        if len(active_list) == 0:\n",
    "            break\n",
    "\n",
    "    for i in range(A.shape[0]):\n",
    "        for j in np.where(A[i,:,0])[0]:\n",
    "            omega = -Omega[i] * fractions.Fraction(int(A[i,j,2]),int(A[i,j,3]))\n",
    "            \n",
    "            if Omega[j] != omega:\n",
    "                print(\"Locking at %i,%i. Omega1 %i Omega2 %i \"%(i,j,Omega[j],omega))\n",
    "                return False\n",
    "        \n",
    "    return True"
   ]
  },
  {
   "cell_type": "code",
   "execution_count": 525,
   "id": "bcaf3462",
   "metadata": {},
   "outputs": [],
   "source": [
    "def generate_random_gear_box(n=None, Max_N = 10, Min_N = 3, C_prob = 0.1):\n",
    "    if n is None:\n",
    "        n = np.random.randint(low=Min_N,high=Max_N+1)\n",
    "\n",
    "    # Instantiate adjacency matrix  \n",
    "    A = np.zeros((n, n, 6))\n",
    "    Omega = [-1]*n\n",
    "    \n",
    "    Omega[0] = fractions.Fraction(1,1)\n",
    "    \n",
    "    # Loop through the edges in the graph and assign their features\n",
    "    for i in range(n):\n",
    "        connected = False\n",
    "        while not connected:\n",
    "            connected = A[i,:,0].sum()>0\n",
    "            for j in range(n):\n",
    "                if (i != j) and (np.random.uniform() <= connect_prob) and not (i==0 and j==n-1) and not (j==0 and i==n-1):\n",
    "\n",
    "                    if Omega[i] != -1 and Omega[j] != -1:\n",
    "                        current_ratio = Omega[j]/Omega[i]\n",
    "                        if current_ratio in possible_ratios and current_ratio<0:\n",
    "                            teeth_pair = possible_ratios[current_ratio][np.random.choice(possible_ratios[current_ratio].shape[0])]\n",
    "                            m = np.random.choice(modules)\n",
    "                            t1 = teeth_pair[1] # tooth of gear 1\n",
    "                            t2 = teeth_pair[0] # tooth of gear 2\n",
    "                            alpha = math.pi/9 # pressure angle in radians\n",
    "                            fw = (m*(t1+t2))/2 # face width in mm\n",
    "                            A[i,j,0] = 1\n",
    "                            A[i,j,1] = m\n",
    "                            A[i,j,2] = t2\n",
    "                            A[i,j,3] = t1\n",
    "                            A[i,j,4] = alpha\n",
    "                            A[i,j,5] = fw\n",
    "                            A[j,i,:] = A[i,j,:]\n",
    "                            A[j,i,2] = t1\n",
    "                            A[j,i,3] = t2\n",
    "                            connected = True\n",
    "                    elif Omega[i] != -1 or Omega[j] != -1:\n",
    "                        \n",
    "                        rand_ratio = list(possible_ratios.keys())[np.random.choice(len(list(possible_ratios.keys())))]\n",
    "                        m = np.random.choice(modules) # module in mm\n",
    "\n",
    "                        teeth_pair = possible_ratios[rand_ratio][np.random.choice(possible_ratios[rand_ratio].shape[0])]\n",
    "\n",
    "                        t1 = teeth_pair[1] # tooth of gear 1\n",
    "                        t2 = teeth_pair[0] # tooth of gear 2\n",
    "                        alpha = math.pi/9 # pressure angle in radians\n",
    "                        fw = (m*(t1+t2))/2 # face width in mm\n",
    "                        \n",
    "                        if Omega[i] == -1:\n",
    "                            Omega[i] = -Omega[j]/rand_ratio\n",
    "                        else:\n",
    "                            Omega[j] = -Omega[i]*rand_ratio\n",
    "                        \n",
    "                        A[i,j,0] = 1\n",
    "                        A[i,j,1] = m\n",
    "                        A[i,j,2] = t2\n",
    "                        A[i,j,3] = t1\n",
    "                        A[i,j,4] = alpha\n",
    "                        A[i,j,5] = fw\n",
    "                        A[j,i,:] = A[i,j,:]\n",
    "                        A[j,i,2] = t1\n",
    "                        A[j,i,3] = t2\n",
    "                        connected = True\n",
    "                    \n",
    "    \n",
    "#     # Instantiate an empty node feature matrix with the desired shape\n",
    "#     N = np.zeros((n, nf))\n",
    "#     # Loop through the nodes in the graph and assign their features\n",
    "#     x0 = 0\n",
    "#     y0 = 0\n",
    "#     for i in range(n):\n",
    "#         # Set origin to input shaft\n",
    "#         if i == 0:\n",
    "#             x = 0\n",
    "#             y = 0\n",
    "#             theta = 0\n",
    "#         else:\n",
    "#             #loop until there's a connection, and get relative position\n",
    "#             for j in range(n):\n",
    "#                 if A[i-1,j-1,0] == 1:\n",
    "#                     ctc = A[i,j,1]*(A[i,j,2]+A[i,j,3]) # center to center distance = m*(t1+t2)\n",
    "#                     theta = np.random.uniform(2*math.pi)\n",
    "#                     x = x0 + ctc * math.sin(theta)\n",
    "#                     y = y0 + ctc * math.cos(theta)\n",
    "#         x0 = x\n",
    "#         y0 = y\n",
    "\n",
    "            \n",
    "    non_redundant = non_redundant_shafts(A)\n",
    "    A = A[non_redundant,:,:][:,non_redundant,:]\n",
    "    \n",
    "#     print(check_locking(A,n))\n",
    "    #if check_locking(A,n):\n",
    "    #    return generate_random_gear_box(n, Max_N, Min_N, C_prob)\n",
    "\n",
    "    \n",
    "    return A"
   ]
  },
  {
   "cell_type": "code",
   "execution_count": null,
   "id": "34b2685c-0262-4b6d-aa1c-1f7f6cd7d075",
   "metadata": {},
   "outputs": [],
   "source": []
  },
  {
   "cell_type": "code",
   "execution_count": 526,
   "id": "3d0bce03-9db3-4cf8-ba41-2f76e847a76f",
   "metadata": {},
   "outputs": [
    {
     "name": "stdout",
     "output_type": "stream",
     "text": [
      "Locking at 0,2. Omega1 0 Omega2 -1 \n"
     ]
    }
   ],
   "source": [
    "locked = 0\n",
    "not_locked = 0\n",
    "while True:\n",
    "    A = generate_random_gear_box(n=20, Max_N = 10, Min_N = 3, C_prob = 0.5)\n",
    "    if calculate_omega(A) == False:\n",
    "        locked += 1\n",
    "    else:\n",
    "        not_locked += 1\n",
    "    if len(all_paths(A))>1:\n",
    "        break\n"
   ]
  },
  {
   "cell_type": "code",
   "execution_count": 527,
   "id": "3df7fe80-42d3-4c41-9538-a41bbc57d5b5",
   "metadata": {},
   "outputs": [
    {
     "data": {
      "text/plain": [
       "array([[0., 1., 1., 0.],\n",
       "       [1., 0., 1., 1.],\n",
       "       [1., 1., 0., 0.],\n",
       "       [0., 1., 0., 0.]])"
      ]
     },
     "execution_count": 527,
     "metadata": {},
     "output_type": "execute_result"
    }
   ],
   "source": [
    "A[:,:,0]"
   ]
  },
  {
   "cell_type": "code",
   "execution_count": 528,
   "id": "99d43b55-5e7d-43ca-af24-ed4331bd2c6e",
   "metadata": {},
   "outputs": [],
   "source": [
    "G = nx.from_numpy_array(A[:,:,0])"
   ]
  },
  {
   "cell_type": "code",
   "execution_count": 529,
   "id": "ad82931a-b19d-4220-a13d-308012cd3597",
   "metadata": {},
   "outputs": [
    {
     "data": {
      "image/png": "[encoded data removed]",
      "text/plain": [
       "<Figure size 640x480 with 1 Axes>"
      ]
     },
     "metadata": {},
     "output_type": "display_data"
    }
   ],
   "source": [
    "nx.draw(G, with_labels = True)"
   ]
  },
  {
   "cell_type": "code",
   "execution_count": 530,
   "id": "3a02b1ad-5034-483d-8221-029a8d02bc8e",
   "metadata": {},
   "outputs": [
    {
     "name": "stdout",
     "output_type": "stream",
     "text": [
      "Locking at 0,2. Omega1 0 Omega2 -1 \n",
      "Locking at 0,2. Omega1 0 Omega2 -1 \n",
      "False\n"
     ]
    }
   ],
   "source": [
    "calculate_omega(A)\n",
    "print(calculate_omega(A))"
   ]
  },
  {
   "cell_type": "code",
   "execution_count": 531,
   "id": "bcecb434-66bd-4f0c-a25a-545bfb9179e7",
   "metadata": {},
   "outputs": [
    {
     "data": {
      "text/plain": [
       "[[0, 1, 3], [0, 2, 1, 3]]"
      ]
     },
     "execution_count": 531,
     "metadata": {},
     "output_type": "execute_result"
    }
   ],
   "source": [
    "all_paths(A)"
   ]
  },
  {
   "cell_type": "code",
   "execution_count": 532,
   "id": "bc1e37a5",
   "metadata": {},
   "outputs": [
    {
     "name": "stdout",
     "output_type": "stream",
     "text": [
      "25.0 21.0\n",
      "110.0 34.0\n",
      "gear ratios list [[1.1904761904761905], [3.235294117647059]]\n",
      "total gear ratios [3.8515406162464987]\n",
      "68.0 68.0\n",
      "34.0 37.0\n",
      "110.0 34.0\n",
      "gear ratios list [[1.1904761904761905, 1.0], [3.235294117647059, 0.918918918918919], [3.235294117647059], [], []]\n",
      "total gear ratios [3.8515406162464987, 2.9729729729729732]\n"
     ]
    },
    {
     "data": {
      "text/plain": [
       "[[0, 1, 3], [0, 2, 1, 3]]"
      ]
     },
     "execution_count": 532,
     "metadata": {},
     "output_type": "execute_result"
    }
   ],
   "source": [
    "check_locking(A)"
   ]
  },
  {
   "cell_type": "code",
   "execution_count": null,
   "id": "d7fbc892",
   "metadata": {},
   "outputs": [],
   "source": []
  },
  {
   "cell_type": "code",
   "execution_count": null,
   "id": "e005fd8d",
   "metadata": {},
   "outputs": [],
   "source": []
  },
  {
   "cell_type": "code",
   "execution_count": null,
   "id": "9dab6c66",
   "metadata": {},
   "outputs": [],
   "source": []
  }
 ],
 "metadata": {
  "kernelspec": {
   "display_name": "Python 3 (ipykernel)",
   "language": "python",
   "name": "python3"
  },
  "language_info": {
   "codemirror_mode": {
    "name": "ipython",
    "version": 3
   },
   "file_extension": ".py",
   "mimetype": "text/x-python",
   "name": "python",
   "nbconvert_exporter": "python",
   "pygments_lexer": "ipython3",
   "version": "3.11.2"
  }
 },
 "nbformat": 4,
 "nbformat_minor": 5
}
