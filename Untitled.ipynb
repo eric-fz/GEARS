{
 "cells": [
  {
   "cell_type": "code",
   "execution_count": 39,
   "id": "1544d490",
   "metadata": {},
   "outputs": [
    {
     "data": {
      "text/plain": [
       "(array([ 279.,  785., 1601., 2314., 2334., 1630.,  790.,  267.]),\n",
       " array([ 3.   ,  3.875,  4.75 ,  5.625,  6.5  ,  7.375,  8.25 ,  9.125,\n",
       "        10.   ]),\n",
       " <BarContainer object of 8 artists>)"
      ]
     },
     "execution_count": 39,
     "metadata": {},
     "output_type": "execute_result"
    },
    {
     "data": {
      "image/png": "[encoded data removed]",
      "text/plain": [
       "<Figure size 640x480 with 1 Axes>"
      ]
     },
     "metadata": {},
     "output_type": "display_data"
    }
   ],
   "source": [
    "# Import necessary libraries\n",
    "import numpy as np\n",
    "import scipy.sparse as sp\n",
    "import scipy.stats as ss\n",
    "import matplotlib.pyplot as plt\n",
    "import math\n",
    "\n",
    "num_edge_features = 5\n",
    "num_node_features = 3\n",
    "connect_prob = 0.1"
   ]
  },
  {
   "cell_type": "code",
   "execution_count": null,
   "id": "73b0bb5a",
   "metadata": {},
   "outputs": [],
   "source": [
    "# Lists of ISO standard modules and tooth numbers\n",
    "\n",
    "modules = [0.1, 0.2, 0.3, 0.4, 0.5, 0.6, 0.8, 1, 1.25, 1.5, 2, 2.5, 3, 4, 5, 6, 8, 10, 12, 16, 20, 25, 32, 40, 50,\n",
    "           0.15, 0.25, 0.35, 0.45, 0.55, 0.7, 0.75, 0.9, 1.75, 2.25, 2.75, 3.5, 4.5, 5.5, 7, 9, 11, 14, 18, 22, 28, 36, 45,\n",
    "           0.65, 3.25, 3.75, 6.5]\n",
    "teeth = [12, 13, 14, 15, 16, 17, 18, 19, 20, 21, 22, 23, 24, 25, 26, 27, 28, 29, 30, 31, 32, 33, 34, 35, 36, 37, 38, 39, 40, \n",
    "         41, 42, 43, 44, 45, 46, 47, 48, 49, 50, 51, 52, 53, 54, 55, 56, 57, 58, 59, 60, 61, 62, 63, 64, 65, 66, 67, 68, 69,\n",
    "         70, 72, 75, 76, 80, 85, 90, 95, 100, 110, 114, 120, 127]\n"
   ]
  },
  {
   "cell_type": "code",
   "execution_count": 178,
   "id": "283554f3",
   "metadata": {},
   "outputs": [
    {
     "name": "stdout",
     "output_type": "stream",
     "text": [
      "1\n",
      "3\n",
      "4\n",
      "1\n",
      "2\n",
      "[[0. 1. 0. 0. 0.]\n",
      " [0. 0. 0. 1. 0.]\n",
      " [0. 0. 0. 0. 1.]\n",
      " [0. 1. 0. 0. 0.]\n",
      " [0. 0. 1. 0. 0.]]\n",
      "[[ 0.   5.5  0.   0.   0. ]\n",
      " [ 0.   0.   0.  22.   0. ]\n",
      " [ 0.   0.   0.   0.   2. ]\n",
      " [ 0.   0.3  0.   0.   0. ]\n",
      " [ 0.   0.   6.   0.   0. ]]\n"
     ]
    }
   ],
   "source": [
    "# Import necessary libraries\n",
    "import numpy as np\n",
    "import scipy.sparse as sp\n",
    "import scipy.stats as ss\n",
    "import matplotlib.pyplot as plt\n",
    "import math as math\n",
    "\n",
    "num_edge_features = 5\n",
    "num_node_features = 3\n",
    "connect_prob = 0.1\n",
    "\n",
    "# Lists of ISO standard modules and tooth numbers\n",
    "\n",
    "modules = [0.1, 0.2, 0.3, 0.4, 0.5, 0.6, 0.8, 1, 1.25, 1.5, 2, 2.5, 3, 4, 5, 6, 8, 10, 12, 16, 20, 25, 32, 40, 50,\n",
    "           0.15, 0.25, 0.35, 0.45, 0.55, 0.7, 0.75, 0.9, 1.75, 2.25, 2.75, 3.5, 4.5, 5.5, 7, 9, 11, 14, 18, 22, 28, 36, 45,\n",
    "           0.65, 3.25, 3.75, 6.5]\n",
    "teeth = [12, 13, 14, 15, 16, 17, 18, 19, 20, 21, 22, 23, 24, 25, 26, 27, 28, 29, 30, 31, 32, 33, 34, 35, 36, 37, 38, 39, 40, \n",
    "         41, 42, 43, 44, 45, 46, 47, 48, 49, 50, 51, 52, 53, 54, 55, 56, 57, 58, 59, 60, 61, 62, 63, 64, 65, 66, 67, 68, 69,\n",
    "         70, 72, 75, 76, 80, 85, 90, 95, 100, 110, 114, 120, 127]\n",
    "\n",
    "# Choose int in a range from a normal distribution\n",
    "def normRange(low, high):\n",
    "    x = np.arange(low, high+1)\n",
    "    xU, xL = x + 0.5, x - 0.5 \n",
    "    prob = ss.norm.cdf(xU, loc = ((low+high)/2), scale = ((high-low)/5)) - ss.norm.cdf(xL, loc = ((low+high)/2), scale = ((high-low)/6))\n",
    "    prob = prob / prob.sum() # normalize the probabilities so their sum is 1\n",
    "    \n",
    "    return np.random.choice(x, p = prob)\n",
    "\n",
    "\n",
    "# Set the number of nodes in the graph\n",
    "# Sample normal distribution 3-10\n",
    "num_nodes = normRange(3, 10)\n",
    "\n",
    "# Instantiate adjacency matrix\n",
    "A = np.zeros((num_nodes, num_nodes, num_edge_features+1))\n",
    " \n",
    "# Loop through the edges in the graph and assign their features\n",
    "for i in range(num_nodes):\n",
    "    connected = False\n",
    "    while not connected:\n",
    "        for j in range(num_nodes):\n",
    "            if (i != j) & (np.random.rand() <= connect_prob) & (connected == False):\n",
    "                if ((i, j) != (0, num_nodes-1)):\n",
    "                    m = np.random.choice(modules) # module in mm\n",
    "                    t1 = np.random.choice(teeth) # tooth of gear 1\n",
    "                    t2 = np.random.choice(teeth) # tooth of gear 2\n",
    "                    alpha = math.pi/9 # pressure angle in radians\n",
    "                    fw = (m*(t1+t2))/2 # face width in mm\n",
    "\n",
    "                    A[i,j,0] = 1\n",
    "                    A[i,j,1] = m\n",
    "                    A[i,j,2] = t1\n",
    "                    A[i,j,3] = t2\n",
    "                    A[i,j,4] = alpha\n",
    "                    A[i,j,5] = fw\n",
    "                    connected = True\n",
    "                    print(j)\n",
    "\n",
    "print(A[...,0])\n",
    "print(A[...,1])\n",
    "\n",
    "\n"
   ]
  },
  {
   "cell_type": "code",
   "execution_count": 119,
   "id": "53981855",
   "metadata": {},
   "outputs": [
    {
     "name": "stdout",
     "output_type": "stream",
     "text": [
      "0.3490658503988659\n"
     ]
    }
   ],
   "source": [
    "print(math.pi/9)"
   ]
  },
  {
   "cell_type": "code",
   "execution_count": null,
   "id": "bcaf3462",
   "metadata": {},
   "outputs": [],
   "source": []
  },
  {
   "cell_type": "code",
   "execution_count": null,
   "id": "6b120d94",
   "metadata": {},
   "outputs": [],
   "source": []
  },
  {
   "cell_type": "code",
   "execution_count": null,
   "id": "bdfdca8b",
   "metadata": {},
   "outputs": [],
   "source": []
  },
  {
   "cell_type": "code",
   "execution_count": null,
   "id": "bc1e37a5",
   "metadata": {},
   "outputs": [],
   "source": []
  },
  {
   "cell_type": "code",
   "execution_count": null,
   "id": "d7fbc892",
   "metadata": {},
   "outputs": [],
   "source": []
  },
  {
   "cell_type": "code",
   "execution_count": null,
   "id": "e005fd8d",
   "metadata": {},
   "outputs": [],
   "source": []
  },
  {
   "cell_type": "code",
   "execution_count": null,
   "id": "9dab6c66",
   "metadata": {},
   "outputs": [],
   "source": []
  }
 ],
 "metadata": {
  "kernelspec": {
   "display_name": "Python 3 (ipykernel)",
   "language": "python",
   "name": "python3"
  },
  "language_info": {
   "codemirror_mode": {
    "name": "ipython",
    "version": 3
   },
   "file_extension": ".py",
   "mimetype": "text/x-python",
   "name": "python",
   "nbconvert_exporter": "python",
   "pygments_lexer": "ipython3",
   "version": "3.9.12"
  }
 },
 "nbformat": 4,
 "nbformat_minor": 5
}
