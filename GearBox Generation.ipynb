{
 "cells": [
  {
   "cell_type": "code",
   "execution_count": 252,
   "id": "1544d490",
   "metadata": {},
   "outputs": [],
   "source": [
    "# Import necessary libraries\n",
    "import numpy as np\n",
    "import scipy.sparse as sp\n",
    "import scipy.stats as ss\n",
    "import math\n",
    "import fractions\n",
    "import networkx as nx\n",
    "\n",
    "num_edge_features = 5\n",
    "num_node_features = 3\n",
    "connect_prob = 0.1"
   ]
  },
  {
   "cell_type": "code",
   "execution_count": 85,
   "id": "73b0bb5a",
   "metadata": {},
   "outputs": [],
   "source": [
    "# Lists of ISO standard modules and tooth numbers\n",
    "\n",
    "modules = [0.1, 0.2, 0.3, 0.4, 0.5, 0.6, 0.8, 1, 1.25, 1.5, 2, 2.5, 3, 4, 5, 6, 8, 10, 12, 16, 20, 25, 32, 40, 50,\n",
    "           0.15, 0.25, 0.35, 0.45, 0.55, 0.7, 0.75, 0.9, 1.75, 2.25, 2.75, 3.5, 4.5, 5.5, 7, 9, 11, 14, 18, 22, 28, 36, 45,\n",
    "           0.65, 3.25, 3.75, 6.5]\n",
    "teeth = [12, 13, 14, 15, 16, 17, 18, 19, 20, 21, 22, 23, 24, 25, 26, 27, 28, 29, 30, 31, 32, 33, 34, 35, 36, 37, 38, 39, 40, \n",
    "         41, 42, 43, 44, 45, 46, 47, 48, 49, 50, 51, 52, 53, 54, 55, 56, 57, 58, 59, 60, 61, 62, 63, 64, 65, 66, 67, 68, 69,\n",
    "         70, 72, 75, 76, 80, 85, 90, 95, 100, 110, 114, 120, 127]\n",
    "\n",
    "possible_rations = {}"
   ]
  },
  {
   "cell_type": "code",
   "execution_count": 86,
   "id": "b26f2b15-733e-4296-9c81-d9fbb0c17744",
   "metadata": {},
   "outputs": [],
   "source": [
    "for i in range(len(teeth)):\n",
    "    for j in range(len(teeth)):\n",
    "        ratio = fractions.Fraction(teeth[i],teeth[j])\n",
    "        if ratio in possible_rations:\n",
    "            possible_rations[ratio].append([teeth[i],teeth[j]])\n",
    "        else:\n",
    "            possible_rations[ratio] = []\n",
    "            possible_rations[ratio].append([teeth[i],teeth[j]])\n",
    "            \n",
    "        ratio = fractions.Fraction(teeth[j],teeth[i])\n",
    "        if ratio in possible_rations:\n",
    "            possible_rations[ratio].append([teeth[j],teeth[i]])\n",
    "        else:\n",
    "            possible_rations[ratio] = []\n",
    "            possible_rations[ratio].append([teeth[j],teeth[i]])\n",
    "            \n",
    "for k in possible_rations.keys():\n",
    "    possible_rations[k] = np.unique(np.array(possible_rations[k]),axis=0)"
   ]
  },
  {
   "cell_type": "code",
   "execution_count": 87,
   "id": "283554f3",
   "metadata": {},
   "outputs": [],
   "source": [
    "# Import necessary libraries\n",
    "import numpy as np\n",
    "import scipy.sparse as sp\n",
    "import scipy.stats as ss\n",
    "import math as math\n",
    "\n",
    "ef = 5\n",
    "nf = 3\n",
    "connect_prob = 0.1\n",
    "\n",
    "# Lists of ISO standard modules and tooth numbers\n",
    "\n",
    "modules = [0.1, 0.2, 0.3, 0.4, 0.5, 0.6, 0.8, 1, 1.25, 1.5, 2, 2.5, 3, 4, 5, 6, 8, 10, 12, 16, 20, 25, 32, 40, 50,\n",
    "           0.15, 0.25, 0.35, 0.45, 0.55, 0.7, 0.75, 0.9, 1.75, 2.25, 2.75, 3.5, 4.5, 5.5, 7, 9, 11, 14, 18, 22, 28, 36, 45,\n",
    "           0.65, 3.25, 3.75, 6.5]\n",
    "teeth = [12, 13, 14, 15, 16, 17, 18, 19, 20, 21, 22, 23, 24, 25, 26, 27, 28, 29, 30, 31, 32, 33, 34, 35, 36, 37, 38, 39, 40, \n",
    "         41, 42, 43, 44, 45, 46, 47, 48, 49, 50, 51, 52, 53, 54, 55, 56, 57, 58, 59, 60, 61, 62, 63, 64, 65, 66, 67, 68, 69,\n",
    "         70, 72, 75, 76, 80, 85, 90, 95, 100, 110, 114, 120, 127]\n",
    "\n",
    "# Choose int in a range from a normal distribution\n",
    "def normRange(low, high):\n",
    "    x = np.arange(low, high+1)\n",
    "    xU, xL = x + 0.5, x - 0.5 \n",
    "    prob = ss.norm.cdf(xU, loc = ((low+high)/2), scale = ((high-low)/5)) - ss.norm.cdf(xL, loc = ((low+high)/2), scale = ((high-low)/6))\n",
    "    prob = prob / prob.sum() # normalize the probabilities so their sum is 1\n",
    "    \n",
    "    return np.random.choice(x, p = prob)"
   ]
  },
  {
   "cell_type": "code",
   "execution_count": 88,
   "id": "ecc2e640",
   "metadata": {},
   "outputs": [],
   "source": [
    "def check_redundant(A,i):\n",
    "    v_ne = list(np.where(A[i,:,0])[0])\n",
    "    v_ne = list(set(v_ne))\n",
    "    \n",
    "    n_ne = len(v_ne)\n",
    "    \n",
    "    while True:\n",
    "        if 0 in v_ne and A.shape[0]-1 in v_ne:\n",
    "            return False\n",
    "        else:\n",
    "            v_ne += list(np.where(A[v_ne,:,0])[1])\n",
    "            v_ne = list(set(v_ne))\n",
    "            \n",
    "        if len(v_ne) == n_ne:\n",
    "            return True\n",
    "        else:\n",
    "            n_ne = len(v_ne)"
   ]
  },
  {
   "cell_type": "code",
   "execution_count": 242,
   "id": "957d869d",
   "metadata": {},
   "outputs": [],
   "source": [
    "def get_paths(A, u, n, visited, path, npaths):\n",
    "    # Mark the current node as visited and store in path\n",
    "    visited[u] = True\n",
    "    path.append(u)\n",
    "    # If current vertex is same as destination, then print\n",
    "    # current path[]\n",
    "    if u == n - 1:\n",
    "#         print(path)\n",
    "        npaths.append(list(path))\n",
    "    else:\n",
    "        # If current vertex is not destination\n",
    "        # Recur for all the vertices adjacent to this vertex\n",
    "        for i in list(np.where(A[u,:,0])[0]):\n",
    "            if visited[i] == False:\n",
    "                get_paths(A, i, n, visited, path, npaths)\n",
    "    # Remove current vertex from path[] and mark it as unvisited\n",
    "    path.pop()\n",
    "    visited[u]= False\n",
    "    \n",
    "def all_paths(A):\n",
    "    n = A.shape[0]\n",
    "    visited = [False]*(n)\n",
    "    path = []\n",
    "    npaths = []\n",
    "    grs = []\n",
    "    grlist = []\n",
    "    get_paths(A, 0, n, visited, path, npaths)\n",
    "    \n",
    "    return npaths\n",
    "\n",
    "def non_redundant_shafts(A):\n",
    "    paths = all_paths(A)\n",
    "    non_redundant_shafts = np.unique(np.concatenate(paths))\n",
    "    \n",
    "    return non_redundant_shafts"
   ]
  },
  {
   "cell_type": "code",
   "execution_count": 243,
   "id": "d08d4351-b020-4f77-9b6c-1e59c73bbe01",
   "metadata": {},
   "outputs": [],
   "source": [
    "def check_locking(A,n):\n",
    "    visited = [False]*(n)\n",
    "    path = []\n",
    "    npaths = []\n",
    "    grs = []\n",
    "    grlist = []\n",
    "    get_paths(A, 0, n, visited, path, npaths)\n",
    "    for i in npaths:\n",
    "        grt = 1\n",
    "        for j in range(len(i)):\n",
    "            gr = 0\n",
    "            if j < len(i)-1:\n",
    "                gr = (A[i[j], i[j+1], 3])/(A[i[j], i[j+1], 2])\n",
    "                grt *= gr\n",
    "                print(A[i[j], i[j+1], 3], A[i[j], i[j+1], 2])\n",
    "                grlist.append([])\n",
    "                grlist[j].append(gr)\n",
    "        grs.append(grt)\n",
    "        print(\"gear ratios list\", grlist)\n",
    "        print(\"total gear ratios\", grs)\n",
    "    return npaths"
   ]
  },
  {
   "cell_type": "code",
   "execution_count": 244,
   "id": "048915f4-d8c8-4032-9c38-7c968ed237d5",
   "metadata": {},
   "outputs": [],
   "source": [
    "def calculate_omega(A):\n",
    "    Omega = [-1]*A.shape[0]\n",
    "    Omega[0] = fractions.Fraction(1,1)\n",
    "    \n",
    "    active_list = [0]\n",
    "    visited_list = []\n",
    "    while True:\n",
    "        new_active_list = []\n",
    "        for i in active_list:\n",
    "            new_active_list += list(np.where(A[i,:,0])[0])\n",
    "            for j in np.where(A[i,:,0])[0]:\n",
    "                omega = -Omega[i] * fractions.Fraction(int(A[i,j,2]),int(A[i,j,3]))\n",
    "                if Omega[j] == -1:\n",
    "                    Omega[j] = omega\n",
    "        visited_list += active_list\n",
    "        active_list = np.array(list(set(new_active_list)))\n",
    "        active_list = list(active_list[np.logical_not(np.isin(active_list,visited_list))])\n",
    "        \n",
    "        if len(active_list) == 0:\n",
    "            break\n",
    "\n",
    "    for i in range(A.shape[0]):\n",
    "        for j in np.where(A[i,:,0])[0]:\n",
    "            omega = -Omega[i] * fractions.Fraction(int(A[i,j,2]),int(A[i,j,3]))\n",
    "            \n",
    "            if Omega[j] != omega:\n",
    "                print(\"Locking at %i,%i\"%(i,j))\n",
    "        \n",
    "    return Omega"
   ]
  },
  {
   "cell_type": "code",
   "execution_count": 278,
   "id": "bcaf3462",
   "metadata": {},
   "outputs": [],
   "source": [
    "def generate_random_gear_box(n=None, Max_N = 10, Min_N = 3, C_prob = 0.1):\n",
    "    if n is None:\n",
    "        n = np.random.randint(low=Min_N,high=Max_N+1)\n",
    "\n",
    "    # Instantiate adjacency matrix  \n",
    "    A = np.zeros((n, n, 6))\n",
    "    Omega = [-1]*n\n",
    "    \n",
    "    Omega[0] = fractions.Fraction(1,1)\n",
    "    \n",
    "    # Loop through the edges in the graph and assign their features\n",
    "    for i in range(n):\n",
    "        connected = False\n",
    "        while not connected:\n",
    "            connected = A[i,:,0].sum()>0\n",
    "            for j in range(n):\n",
    "                if (i != j) and (np.random.uniform() <= connect_prob) and not (i==0 and j==n-1) and not (j==0 and i==n-1):\n",
    "\n",
    "                    if Omega[i] != -1 and Omega[j] != -1:\n",
    "                        curren_ratio = Omega[j]/Omega[i]\n",
    "                        if curren_ratio in possible_rations and curren_ratio<0:\n",
    "                            teeth_pair = possible_rations[abs(curren_ratio)][np.random.choice(possible_rations[abs(curren_ratio)].shape[0])]\n",
    "                            m = np.random.choice(modules)\n",
    "                            t1 = teeth_pair[0] # tooth of gear 1\n",
    "                            t2 = teeth_pair[1] # tooth of gear 2\n",
    "                            alpha = math.pi/9 # pressure angle in radians\n",
    "                            fw = (m*(t1+t2))/2 # face width in mm\n",
    "                            A[i,j,0] = 1\n",
    "                            A[i,j,1] = m\n",
    "                            A[i,j,2] = t2\n",
    "                            A[i,j,3] = t1\n",
    "                            A[i,j,4] = alpha\n",
    "                            A[i,j,5] = fw\n",
    "                            A[j,i,:] = A[i,j,:]\n",
    "                            A[j,i,2] = t1\n",
    "                            A[j,i,3] = t2\n",
    "                            connected = True\n",
    "                    elif Omega[i] != -1 or Omega[j] != -1:\n",
    "                        \n",
    "                        rand_ratio = list(possible_rations.keys())[np.random.choice(len(list(possible_rations.keys())))]\n",
    "                        m = np.random.choice(modules) # module in mm\n",
    "\n",
    "                        teeth_pair = possible_rations[rand_ratio][np.random.choice(possible_rations[rand_ratio].shape[0])]\n",
    "\n",
    "                        t1 = teeth_pair[0] # tooth of gear 1\n",
    "                        t2 = teeth_pair[1] # tooth of gear 2\n",
    "                        alpha = math.pi/9 # pressure angle in radians\n",
    "                        fw = (m*(t1+t2))/2 # face width in mm\n",
    "                        \n",
    "                        if Omega[i] == -1:\n",
    "                            Omega[i] = -Omega[j]/rand_ratio\n",
    "                        else:\n",
    "                            Omega[j] = -Omega[i]*rand_ratio\n",
    "                        \n",
    "                        A[i,j,0] = 1\n",
    "                        A[i,j,1] = m\n",
    "                        A[i,j,2] = t1\n",
    "                        A[i,j,3] = t2\n",
    "                        A[i,j,4] = alpha\n",
    "                        A[i,j,5] = fw\n",
    "                        A[j,i,:] = A[i,j,:]\n",
    "                        A[j,i,2] = t2\n",
    "                        A[j,i,3] = t1\n",
    "                        connected = True\n",
    "                    \n",
    "    \n",
    "#     # Instantiate an empty node feature matrix with the desired shape\n",
    "#     N = np.zeros((n, nf))\n",
    "#     # Loop through the nodes in the graph and assign their features\n",
    "#     x0 = 0\n",
    "#     y0 = 0\n",
    "#     for i in range(n):\n",
    "#         # Set origin to input shaft\n",
    "#         if i == 0:\n",
    "#             x = 0\n",
    "#             y = 0\n",
    "#             theta = 0\n",
    "#         else:\n",
    "#             #loop until there's a connection, and get relative position\n",
    "#             for j in range(n):\n",
    "#                 if A[i-1,j-1,0] == 1:\n",
    "#                     ctc = A[i,j,1]*(A[i,j,2]+A[i,j,3]) # center to center distance = m*(t1+t2)\n",
    "#                     theta = np.random.uniform(2*math.pi)\n",
    "#                     x = x0 + ctc * math.sin(theta)\n",
    "#                     y = y0 + ctc * math.cos(theta)\n",
    "#         x0 = x\n",
    "#         y0 = ypossible_rations\n",
    "\n",
    "            \n",
    "    non_redundant = non_redundant_shafts(A)\n",
    "    A = A[non_redundant,:,:][:,non_redundant,:]\n",
    "    \n",
    "#     print(check_locking(A,n))\n",
    "    #if check_locking(A,n):\n",
    "    #    return generate_random_gear_box(n, Max_N, Min_N, C_prob)\n",
    "\n",
    "    \n",
    "    return A"
   ]
  },
  {
   "cell_type": "code",
   "execution_count": null,
   "id": "34b2685c-0262-4b6d-aa1c-1f7f6cd7d075",
   "metadata": {},
   "outputs": [],
   "source": []
  },
  {
   "cell_type": "code",
   "execution_count": 279,
   "id": "3d0bce03-9db3-4cf8-ba41-2f76e847a76f",
   "metadata": {},
   "outputs": [],
   "source": [
    "while True:\n",
    "    A = generate_random_gear_box(n=100, Max_N = 10, Min_N = 3, C_prob = 0.5)\n",
    "    if len(all_paths(A))>1:\n",
    "        break"
   ]
  },
  {
   "cell_type": "code",
   "execution_count": 280,
   "id": "bcecb434-66bd-4f0c-a25a-545bfb9179e7",
   "metadata": {},
   "outputs": [
    {
     "data": {
      "text/plain": [
       "[[0, 1, 3], [0, 2, 1, 3]]"
      ]
     },
     "execution_count": 280,
     "metadata": {},
     "output_type": "execute_result"
    }
   ],
   "source": [
    "all_paths(A)"
   ]
  },
  {
   "cell_type": "code",
   "execution_count": 282,
   "id": "3df7fe80-42d3-4c41-9538-a41bbc57d5b5",
   "metadata": {},
   "outputs": [
    {
     "data": {
      "text/plain": [
       "array([[0., 1., 1., 0.],\n",
       "       [1., 0., 1., 1.],\n",
       "       [1., 1., 0., 0.],\n",
       "       [0., 1., 0., 0.]])"
      ]
     },
     "execution_count": 282,
     "metadata": {},
     "output_type": "execute_result"
    }
   ],
   "source": [
    "A[:,:,0]"
   ]
  },
  {
   "cell_type": "code",
   "execution_count": 283,
   "id": "99d43b55-5e7d-43ca-af24-ed4331bd2c6e",
   "metadata": {},
   "outputs": [],
   "source": [
    "G = nx.from_numpy_matrix(A[:,:,0])"
   ]
  },
  {
   "cell_type": "code",
   "execution_count": 284,
   "id": "ad82931a-b19d-4220-a13d-308012cd3597",
   "metadata": {},
   "outputs": [
    {
     "data": {
      "image/png": "[encoded data removed]",
      "text/plain": [
       "<Figure size 640x480 with 1 Axes>"
      ]
     },
     "metadata": {},
     "output_type": "display_data"
    }
   ],
   "source": [
    "nx.draw(G)"
   ]
  },
  {
   "cell_type": "code",
   "execution_count": 285,
   "id": "3a02b1ad-5034-483d-8221-029a8d02bc8e",
   "metadata": {},
   "outputs": [
    {
     "name": "stdout",
     "output_type": "stream",
     "text": [
      "Locking at 0,2\n",
      "Locking at 2,0\n"
     ]
    },
    {
     "data": {
      "text/plain": [
       "[Fraction(1, 1), Fraction(-55, 27), Fraction(2420, 1323), Fraction(11, 5)]"
      ]
     },
     "execution_count": 285,
     "metadata": {},
     "output_type": "execute_result"
    }
   ],
   "source": [
    "calculate_omega(A)"
   ]
  },
  {
   "cell_type": "code",
   "execution_count": 66,
   "id": "b227d4d3-48b2-43b3-a4c8-72af144864bc",
   "metadata": {},
   "outputs": [
    {
     "data": {
      "text/plain": [
       "Fraction(1045, 234)"
      ]
     },
     "execution_count": 66,
     "metadata": {},
     "output_type": "execute_result"
    }
   ],
   "source": [
    "fractions.Fraction(38,39) * fractions.Fraction(55,12)"
   ]
  },
  {
   "cell_type": "code",
   "execution_count": 65,
   "id": "6e84ce54-5eab-429f-86ba-af804055b686",
   "metadata": {},
   "outputs": [
    {
     "data": {
      "text/plain": [
       "array([1.0e+00, 4.0e+01, 9.5e+01, 5.5e+01, 1.2e+01, 3.0e+03])"
      ]
     },
     "execution_count": 65,
     "metadata": {},
     "output_type": "execute_result"
    }
   ],
   "source": [
    "A[1,7]"
   ]
  },
  {
   "cell_type": "code",
   "execution_count": 437,
   "id": "6b120d94",
   "metadata": {},
   "outputs": [
    {
     "name": "stdout",
     "output_type": "stream",
     "text": [
      "[0, 2, 3, 4, 5, 7]\n",
      "[0, 2, 3, 4, 7]\n",
      "[0, 2, 3, 5, 4, 7]\n",
      "[0, 2, 3, 5, 7]\n",
      "[0, 2, 3, 7]\n",
      "[0, 2, 6, 5, 3, 4, 7]\n",
      "[0, 2, 6, 5, 3, 7]\n",
      "[0, 2, 6, 5, 4, 3, 7]\n",
      "[0, 2, 6, 5, 4, 7]\n",
      "[0, 2, 6, 5, 7]\n",
      "[0, 6, 2, 3, 4, 5, 7]\n",
      "[0, 6, 2, 3, 4, 7]\n",
      "[0, 6, 2, 3, 5, 4, 7]\n",
      "[0, 6, 2, 3, 5, 7]\n",
      "[0, 6, 2, 3, 7]\n",
      "[0, 6, 5, 3, 4, 7]\n",
      "[0, 6, 5, 3, 7]\n",
      "[0, 6, 5, 4, 3, 7]\n",
      "[0, 6, 5, 4, 7]\n",
      "[0, 6, 5, 7]\n",
      "65.0 62.0\n",
      "15.0 70.0\n",
      "42.0 62.0\n",
      "54.0 16.0\n",
      "57.0 48.0\n",
      "gear ratios list [[1.0483870967741935], [0.21428571428571427], [0.6774193548387096], [3.375], [1.1875]]\n",
      "total gear ratios [0.6099298419614982]\n",
      "65.0 62.0\n",
      "15.0 70.0\n",
      "42.0 62.0\n",
      "24.0 33.0\n",
      "gear ratios list [[1.0483870967741935, 1.0483870967741935], [0.21428571428571427, 0.21428571428571427], [0.6774193548387096, 0.6774193548387096], [3.375, 0.7272727272727273], [1.1875], [], [], [], []]\n",
      "total gear ratios [0.6099298419614982, 0.110680162709299]\n",
      "65.0 62.0\n",
      "15.0 70.0\n",
      "37.0 64.0\n",
      "54.0 16.0\n",
      "24.0 33.0\n",
      "gear ratios list [[1.0483870967741935, 1.0483870967741935, 1.0483870967741935], [0.21428571428571427, 0.21428571428571427, 0.21428571428571427], [0.6774193548387096, 0.6774193548387096, 0.578125], [3.375, 0.7272727272727273, 3.375], [1.1875, 0.7272727272727273], [], [], [], [], [], [], [], [], []]\n",
      "total gear ratios [0.6099298419614982, 0.110680162709299, 0.3187922208839547]\n",
      "65.0 62.0\n",
      "15.0 70.0\n",
      "37.0 64.0\n",
      "57.0 48.0\n",
      "gear ratios list [[1.0483870967741935, 1.0483870967741935, 1.0483870967741935, 1.0483870967741935], [0.21428571428571427, 0.21428571428571427, 0.21428571428571427, 0.21428571428571427], [0.6774193548387096, 0.6774193548387096, 0.578125, 0.578125], [3.375, 0.7272727272727273, 3.375, 1.1875], [1.1875, 0.7272727272727273], [], [], [], [], [], [], [], [], [], [], [], [], []]\n",
      "total gear ratios [0.6099298419614982, 0.110680162709299, 0.3187922208839547, 0.1542304957517281]\n",
      "65.0 62.0\n",
      "15.0 70.0\n",
      "21.0 50.0\n",
      "gear ratios list [[1.0483870967741935, 1.0483870967741935, 1.0483870967741935, 1.0483870967741935, 1.0483870967741935], [0.21428571428571427, 0.21428571428571427, 0.21428571428571427, 0.21428571428571427, 0.21428571428571427], [0.6774193548387096, 0.6774193548387096, 0.578125, 0.578125, 0.42], [3.375, 0.7272727272727273, 3.375, 1.1875], [1.1875, 0.7272727272727273], [], [], [], [], [], [], [], [], [], [], [], [], [], [], [], []]\n",
      "total gear ratios [0.6099298419614982, 0.110680162709299, 0.3187922208839547, 0.1542304957517281, 0.09435483870967741]\n",
      "65.0 62.0\n",
      "39.0 29.0\n",
      "59.0 49.0\n",
      "37.0 64.0\n",
      "42.0 62.0\n",
      "24.0 33.0\n",
      "gear ratios list [[1.0483870967741935, 1.0483870967741935, 1.0483870967741935, 1.0483870967741935, 1.0483870967741935, 1.0483870967741935], [0.21428571428571427, 0.21428571428571427, 0.21428571428571427, 0.21428571428571427, 0.21428571428571427, 1.3448275862068966], [0.6774193548387096, 0.6774193548387096, 0.578125, 0.578125, 0.42, 1.2040816326530612], [3.375, 0.7272727272727273, 3.375, 1.1875, 0.578125], [1.1875, 0.7272727272727273, 0.6774193548387096], [0.7272727272727273], [], [], [], [], [], [], [], [], [], [], [], [], [], [], [], [], [], [], [], [], []]\n",
      "total gear ratios [0.6099298419614982, 0.110680162709299, 0.3187922208839547, 0.1542304957517281, 0.09435483870967741, 0.483527145555295]\n",
      "65.0 62.0\n",
      "39.0 29.0\n",
      "59.0 49.0\n",
      "37.0 64.0\n",
      "21.0 50.0\n",
      "gear ratios list [[1.0483870967741935, 1.0483870967741935, 1.0483870967741935, 1.0483870967741935, 1.0483870967741935, 1.0483870967741935, 1.0483870967741935], [0.21428571428571427, 0.21428571428571427, 0.21428571428571427, 0.21428571428571427, 0.21428571428571427, 1.3448275862068966, 1.3448275862068966], [0.6774193548387096, 0.6774193548387096, 0.578125, 0.578125, 0.42, 1.2040816326530612, 1.2040816326530612], [3.375, 0.7272727272727273, 3.375, 1.1875, 0.578125, 0.578125], [1.1875, 0.7272727272727273, 0.6774193548387096, 0.42], [0.7272727272727273], [], [], [], [], [], [], [], [], [], [], [], [], [], [], [], [], [], [], [], [], [], [], [], [], [], []]\n",
      "total gear ratios [0.6099298419614982, 0.110680162709299, 0.3187922208839547, 0.1542304957517281, 0.09435483870967741, 0.483527145555295, 0.412206891585889]\n",
      "65.0 62.0\n",
      "39.0 29.0\n",
      "59.0 49.0\n",
      "54.0 16.0\n",
      "42.0 62.0\n",
      "21.0 50.0\n",
      "gear ratios list [[1.0483870967741935, 1.0483870967741935, 1.0483870967741935, 1.0483870967741935, 1.0483870967741935, 1.0483870967741935, 1.0483870967741935, 1.0483870967741935], [0.21428571428571427, 0.21428571428571427, 0.21428571428571427, 0.21428571428571427, 0.21428571428571427, 1.3448275862068966, 1.3448275862068966, 1.3448275862068966], [0.6774193548387096, 0.6774193548387096, 0.578125, 0.578125, 0.42, 1.2040816326530612, 1.2040816326530612, 1.2040816326530612], [3.375, 0.7272727272727273, 3.375, 1.1875, 0.578125, 0.578125, 3.375], [1.1875, 0.7272727272727273, 0.6774193548387096, 0.42, 0.6774193548387096], [0.7272727272727273, 0.42], [], [], [], [], [], [], [], [], [], [], [], [], [], [], [], [], [], [], [], [], [], [], [], [], [], [], [], [], [], [], [], []]\n",
      "total gear ratios [0.6099298419614982, 0.110680162709299, 0.3187922208839547, 0.1542304957517281, 0.09435483870967741, 0.483527145555295, 0.412206891585889, 1.6301398955829054]\n",
      "65.0 62.0\n",
      "39.0 29.0\n",
      "59.0 49.0\n",
      "54.0 16.0\n",
      "24.0 33.0\n",
      "gear ratios list [[1.0483870967741935, 1.0483870967741935, 1.0483870967741935, 1.0483870967741935, 1.0483870967741935, 1.0483870967741935, 1.0483870967741935, 1.0483870967741935, 1.0483870967741935], [0.21428571428571427, 0.21428571428571427, 0.21428571428571427, 0.21428571428571427, 0.21428571428571427, 1.3448275862068966, 1.3448275862068966, 1.3448275862068966, 1.3448275862068966], [0.6774193548387096, 0.6774193548387096, 0.578125, 0.578125, 0.42, 1.2040816326530612, 1.2040816326530612, 1.2040816326530612, 1.2040816326530612], [3.375, 0.7272727272727273, 3.375, 1.1875, 0.578125, 0.578125, 3.375, 3.375], [1.1875, 0.7272727272727273, 0.6774193548387096, 0.42, 0.6774193548387096, 0.7272727272727273], [0.7272727272727273, 0.42], [], [], [], [], [], [], [], [], [], [], [], [], [], [], [], [], [], [], [], [], [], [], [], [], [], [], [], [], [], [], [], [], [], [], [], [], []]\n",
      "total gear ratios [0.6099298419614982, 0.110680162709299, 0.3187922208839547, 0.1542304957517281, 0.09435483870967741, 0.483527145555295, 0.412206891585889, 1.6301398955829054, 4.166921192584628]\n",
      "65.0 62.0\n",
      "39.0 29.0\n",
      "59.0 49.0\n",
      "57.0 48.0\n",
      "gear ratios list [[1.0483870967741935, 1.0483870967741935, 1.0483870967741935, 1.0483870967741935, 1.0483870967741935, 1.0483870967741935, 1.0483870967741935, 1.0483870967741935, 1.0483870967741935, 1.0483870967741935], [0.21428571428571427, 0.21428571428571427, 0.21428571428571427, 0.21428571428571427, 0.21428571428571427, 1.3448275862068966, 1.3448275862068966, 1.3448275862068966, 1.3448275862068966, 1.3448275862068966], [0.6774193548387096, 0.6774193548387096, 0.578125, 0.578125, 0.42, 1.2040816326530612, 1.2040816326530612, 1.2040816326530612, 1.2040816326530612, 1.2040816326530612], [3.375, 0.7272727272727273, 3.375, 1.1875, 0.578125, 0.578125, 3.375, 3.375, 1.1875], [1.1875, 0.7272727272727273, 0.6774193548387096, 0.42, 0.6774193548387096, 0.7272727272727273], [0.7272727272727273, 0.42], [], [], [], [], [], [], [], [], [], [], [], [], [], [], [], [], [], [], [], [], [], [], [], [], [], [], [], [], [], [], [], [], [], [], [], [], [], [], [], [], []]\n",
      "total gear ratios [0.6099298419614982, 0.110680162709299, 0.3187922208839547, 0.1542304957517281, 0.09435483870967741, 0.483527145555295, 0.412206891585889, 1.6301398955829054, 4.166921192584628, 2.015941039930989]\n",
      "43.0 60.0\n",
      "39.0 29.0\n",
      "15.0 70.0\n",
      "42.0 62.0\n",
      "54.0 16.0\n",
      "57.0 48.0\n",
      "gear ratios list [[1.0483870967741935, 1.0483870967741935, 1.0483870967741935, 1.0483870967741935, 1.0483870967741935, 1.0483870967741935, 1.0483870967741935, 1.0483870967741935, 1.0483870967741935, 1.0483870967741935, 0.7166666666666667], [0.21428571428571427, 0.21428571428571427, 0.21428571428571427, 0.21428571428571427, 0.21428571428571427, 1.3448275862068966, 1.3448275862068966, 1.3448275862068966, 1.3448275862068966, 1.3448275862068966, 1.3448275862068966], [0.6774193548387096, 0.6774193548387096, 0.578125, 0.578125, 0.42, 1.2040816326530612, 1.2040816326530612, 1.2040816326530612, 1.2040816326530612, 1.2040816326530612, 0.21428571428571427], [3.375, 0.7272727272727273, 3.375, 1.1875, 0.578125, 0.578125, 3.375, 3.375, 1.1875, 0.6774193548387096], [1.1875, 0.7272727272727273, 0.6774193548387096, 0.42, 0.6774193548387096, 0.7272727272727273, 3.375], [0.7272727272727273, 0.42, 1.1875], [], [], [], [], [], [], [], [], [], [], [], [], [], [], [], [], [], [], [], [], [], [], [], [], [], [], [], [], [], [], [], [], [], [], [], [], [], [], [], [], [], [], [], [], [], [], []]\n",
      "total gear ratios [0.6099298419614982, 0.110680162709299, 0.3187922208839547, 0.1542304957517281, 0.09435483870967741, 0.483527145555295, 0.412206891585889, 1.6301398955829054, 4.166921192584628, 2.015941039930989, 0.5607148133342601]\n",
      "43.0 60.0\n",
      "39.0 29.0\n",
      "15.0 70.0\n",
      "42.0 62.0\n",
      "24.0 33.0\n",
      "gear ratios list [[1.0483870967741935, 1.0483870967741935, 1.0483870967741935, 1.0483870967741935, 1.0483870967741935, 1.0483870967741935, 1.0483870967741935, 1.0483870967741935, 1.0483870967741935, 1.0483870967741935, 0.7166666666666667, 0.7166666666666667], [0.21428571428571427, 0.21428571428571427, 0.21428571428571427, 0.21428571428571427, 0.21428571428571427, 1.3448275862068966, 1.3448275862068966, 1.3448275862068966, 1.3448275862068966, 1.3448275862068966, 1.3448275862068966, 1.3448275862068966], [0.6774193548387096, 0.6774193548387096, 0.578125, 0.578125, 0.42, 1.2040816326530612, 1.2040816326530612, 1.2040816326530612, 1.2040816326530612, 1.2040816326530612, 0.21428571428571427, 0.21428571428571427], [3.375, 0.7272727272727273, 3.375, 1.1875, 0.578125, 0.578125, 3.375, 3.375, 1.1875, 0.6774193548387096, 0.6774193548387096], [1.1875, 0.7272727272727273, 0.6774193548387096, 0.42, 0.6774193548387096, 0.7272727272727273, 3.375, 0.7272727272727273], [0.7272727272727273, 0.42, 1.1875], [], [], [], [], [], [], [], [], [], [], [], [], [], [], [], [], [], [], [], [], [], [], [], [], [], [], [], [], [], [], [], [], [], [], [], [], [], [], [], [], [], [], [], [], [], [], [], [], [], [], [], []]\n",
      "total gear ratios [0.6099298419614982, 0.110680162709299, 0.3187922208839547, 0.1542304957517281, 0.09435483870967741, 0.483527145555295, 0.412206891585889, 1.6301398955829054, 4.166921192584628, 2.015941039930989, 0.5607148133342601, 0.10174941854585902]\n",
      "43.0 60.0\n",
      "39.0 29.0\n",
      "15.0 70.0\n",
      "37.0 64.0\n",
      "54.0 16.0\n",
      "24.0 33.0\n",
      "gear ratios list [[1.0483870967741935, 1.0483870967741935, 1.0483870967741935, 1.0483870967741935, 1.0483870967741935, 1.0483870967741935, 1.0483870967741935, 1.0483870967741935, 1.0483870967741935, 1.0483870967741935, 0.7166666666666667, 0.7166666666666667, 0.7166666666666667], [0.21428571428571427, 0.21428571428571427, 0.21428571428571427, 0.21428571428571427, 0.21428571428571427, 1.3448275862068966, 1.3448275862068966, 1.3448275862068966, 1.3448275862068966, 1.3448275862068966, 1.3448275862068966, 1.3448275862068966, 1.3448275862068966], [0.6774193548387096, 0.6774193548387096, 0.578125, 0.578125, 0.42, 1.2040816326530612, 1.2040816326530612, 1.2040816326530612, 1.2040816326530612, 1.2040816326530612, 0.21428571428571427, 0.21428571428571427, 0.21428571428571427], [3.375, 0.7272727272727273, 3.375, 1.1875, 0.578125, 0.578125, 3.375, 3.375, 1.1875, 0.6774193548387096, 0.6774193548387096, 0.578125], [1.1875, 0.7272727272727273, 0.6774193548387096, 0.42, 0.6774193548387096, 0.7272727272727273, 3.375, 0.7272727272727273, 3.375], [0.7272727272727273, 0.42, 1.1875, 0.7272727272727273], [], [], [], [], [], [], [], [], [], [], [], [], [], [], [], [], [], [], [], [], [], [], [], [], [], [], [], [], [], [], [], [], [], [], [], [], [], [], [], [], [], [], [], [], [], [], [], [], [], [], [], [], [], [], [], [], [], []]\n",
      "total gear ratios [0.6099298419614982, 0.110680162709299, 0.3187922208839547, 0.1542304957517281, 0.09435483870967741, 0.483527145555295, 0.412206891585889, 1.6301398955829054, 4.166921192584628, 2.015941039930989, 0.5607148133342601, 0.10174941854585902, 0.29306898650918045]\n",
      "43.0 60.0\n",
      "39.0 29.0\n",
      "15.0 70.0\n",
      "37.0 64.0\n",
      "57.0 48.0\n",
      "gear ratios list [[1.0483870967741935, 1.0483870967741935, 1.0483870967741935, 1.0483870967741935, 1.0483870967741935, 1.0483870967741935, 1.0483870967741935, 1.0483870967741935, 1.0483870967741935, 1.0483870967741935, 0.7166666666666667, 0.7166666666666667, 0.7166666666666667, 0.7166666666666667], [0.21428571428571427, 0.21428571428571427, 0.21428571428571427, 0.21428571428571427, 0.21428571428571427, 1.3448275862068966, 1.3448275862068966, 1.3448275862068966, 1.3448275862068966, 1.3448275862068966, 1.3448275862068966, 1.3448275862068966, 1.3448275862068966, 1.3448275862068966], [0.6774193548387096, 0.6774193548387096, 0.578125, 0.578125, 0.42, 1.2040816326530612, 1.2040816326530612, 1.2040816326530612, 1.2040816326530612, 1.2040816326530612, 0.21428571428571427, 0.21428571428571427, 0.21428571428571427, 0.21428571428571427], [3.375, 0.7272727272727273, 3.375, 1.1875, 0.578125, 0.578125, 3.375, 3.375, 1.1875, 0.6774193548387096, 0.6774193548387096, 0.578125, 0.578125], [1.1875, 0.7272727272727273, 0.6774193548387096, 0.42, 0.6774193548387096, 0.7272727272727273, 3.375, 0.7272727272727273, 3.375, 1.1875], [0.7272727272727273, 0.42, 1.1875, 0.7272727272727273], [], [], [], [], [], [], [], [], [], [], [], [], [], [], [], [], [], [], [], [], [], [], [], [], [], [], [], [], [], [], [], [], [], [], [], [], [], [], [], [], [], [], [], [], [], [], [], [], [], [], [], [], [], [], [], [], [], [], [], [], [], [], []]\n",
      "total gear ratios [0.6099298419614982, 0.110680162709299, 0.3187922208839547, 0.1542304957517281, 0.09435483870967741, 0.483527145555295, 0.412206891585889, 1.6301398955829054, 4.166921192584628, 2.015941039930989, 0.5607148133342601, 0.10174941854585902, 0.29306898650918045, 0.14178569023245072]\n",
      "43.0 60.0\n",
      "39.0 29.0\n",
      "15.0 70.0\n",
      "21.0 50.0\n",
      "gear ratios list [[1.0483870967741935, 1.0483870967741935, 1.0483870967741935, 1.0483870967741935, 1.0483870967741935, 1.0483870967741935, 1.0483870967741935, 1.0483870967741935, 1.0483870967741935, 1.0483870967741935, 0.7166666666666667, 0.7166666666666667, 0.7166666666666667, 0.7166666666666667, 0.7166666666666667], [0.21428571428571427, 0.21428571428571427, 0.21428571428571427, 0.21428571428571427, 0.21428571428571427, 1.3448275862068966, 1.3448275862068966, 1.3448275862068966, 1.3448275862068966, 1.3448275862068966, 1.3448275862068966, 1.3448275862068966, 1.3448275862068966, 1.3448275862068966, 1.3448275862068966], [0.6774193548387096, 0.6774193548387096, 0.578125, 0.578125, 0.42, 1.2040816326530612, 1.2040816326530612, 1.2040816326530612, 1.2040816326530612, 1.2040816326530612, 0.21428571428571427, 0.21428571428571427, 0.21428571428571427, 0.21428571428571427, 0.21428571428571427], [3.375, 0.7272727272727273, 3.375, 1.1875, 0.578125, 0.578125, 3.375, 3.375, 1.1875, 0.6774193548387096, 0.6774193548387096, 0.578125, 0.578125, 0.42], [1.1875, 0.7272727272727273, 0.6774193548387096, 0.42, 0.6774193548387096, 0.7272727272727273, 3.375, 0.7272727272727273, 3.375, 1.1875], [0.7272727272727273, 0.42, 1.1875, 0.7272727272727273], [], [], [], [], [], [], [], [], [], [], [], [], [], [], [], [], [], [], [], [], [], [], [], [], [], [], [], [], [], [], [], [], [], [], [], [], [], [], [], [], [], [], [], [], [], [], [], [], [], [], [], [], [], [], [], [], [], [], [], [], [], [], [], [], [], [], []]\n",
      "total gear ratios [0.6099298419614982, 0.110680162709299, 0.3187922208839547, 0.1542304957517281, 0.09435483870967741, 0.483527145555295, 0.412206891585889, 1.6301398955829054, 4.166921192584628, 2.015941039930989, 0.5607148133342601, 0.10174941854585902, 0.29306898650918045, 0.14178569023245072, 0.08674137931034481]\n",
      "43.0 60.0\n",
      "59.0 49.0\n",
      "37.0 64.0\n",
      "42.0 62.0\n",
      "24.0 33.0\n",
      "gear ratios list [[1.0483870967741935, 1.0483870967741935, 1.0483870967741935, 1.0483870967741935, 1.0483870967741935, 1.0483870967741935, 1.0483870967741935, 1.0483870967741935, 1.0483870967741935, 1.0483870967741935, 0.7166666666666667, 0.7166666666666667, 0.7166666666666667, 0.7166666666666667, 0.7166666666666667, 0.7166666666666667], [0.21428571428571427, 0.21428571428571427, 0.21428571428571427, 0.21428571428571427, 0.21428571428571427, 1.3448275862068966, 1.3448275862068966, 1.3448275862068966, 1.3448275862068966, 1.3448275862068966, 1.3448275862068966, 1.3448275862068966, 1.3448275862068966, 1.3448275862068966, 1.3448275862068966, 1.2040816326530612], [0.6774193548387096, 0.6774193548387096, 0.578125, 0.578125, 0.42, 1.2040816326530612, 1.2040816326530612, 1.2040816326530612, 1.2040816326530612, 1.2040816326530612, 0.21428571428571427, 0.21428571428571427, 0.21428571428571427, 0.21428571428571427, 0.21428571428571427, 0.578125], [3.375, 0.7272727272727273, 3.375, 1.1875, 0.578125, 0.578125, 3.375, 3.375, 1.1875, 0.6774193548387096, 0.6774193548387096, 0.578125, 0.578125, 0.42, 0.6774193548387096], [1.1875, 0.7272727272727273, 0.6774193548387096, 0.42, 0.6774193548387096, 0.7272727272727273, 3.375, 0.7272727272727273, 3.375, 1.1875, 0.7272727272727273], [0.7272727272727273, 0.42, 1.1875, 0.7272727272727273], [], [], [], [], [], [], [], [], [], [], [], [], [], [], [], [], [], [], [], [], [], [], [], [], [], [], [], [], [], [], [], [], [], [], [], [], [], [], [], [], [], [], [], [], [], [], [], [], [], [], [], [], [], [], [], [], [], [], [], [], [], [], [], [], [], [], [], [], [], [], [], []]\n",
      "total gear ratios [0.6099298419614982, 0.110680162709299, 0.3187922208839547, 0.1542304957517281, 0.09435483870967741, 0.483527145555295, 0.412206891585889, 1.6301398955829054, 4.166921192584628, 2.015941039930989, 0.5607148133342601, 0.10174941854585902, 0.29306898650918045, 0.14178569023245072, 0.08674137931034481, 0.24578183912861334]\n",
      "43.0 60.0\n",
      "59.0 49.0\n",
      "37.0 64.0\n",
      "21.0 50.0\n",
      "gear ratios list [[1.0483870967741935, 1.0483870967741935, 1.0483870967741935, 1.0483870967741935, 1.0483870967741935, 1.0483870967741935, 1.0483870967741935, 1.0483870967741935, 1.0483870967741935, 1.0483870967741935, 0.7166666666666667, 0.7166666666666667, 0.7166666666666667, 0.7166666666666667, 0.7166666666666667, 0.7166666666666667, 0.7166666666666667], [0.21428571428571427, 0.21428571428571427, 0.21428571428571427, 0.21428571428571427, 0.21428571428571427, 1.3448275862068966, 1.3448275862068966, 1.3448275862068966, 1.3448275862068966, 1.3448275862068966, 1.3448275862068966, 1.3448275862068966, 1.3448275862068966, 1.3448275862068966, 1.3448275862068966, 1.2040816326530612, 1.2040816326530612], [0.6774193548387096, 0.6774193548387096, 0.578125, 0.578125, 0.42, 1.2040816326530612, 1.2040816326530612, 1.2040816326530612, 1.2040816326530612, 1.2040816326530612, 0.21428571428571427, 0.21428571428571427, 0.21428571428571427, 0.21428571428571427, 0.21428571428571427, 0.578125, 0.578125], [3.375, 0.7272727272727273, 3.375, 1.1875, 0.578125, 0.578125, 3.375, 3.375, 1.1875, 0.6774193548387096, 0.6774193548387096, 0.578125, 0.578125, 0.42, 0.6774193548387096, 0.42], [1.1875, 0.7272727272727273, 0.6774193548387096, 0.42, 0.6774193548387096, 0.7272727272727273, 3.375, 0.7272727272727273, 3.375, 1.1875, 0.7272727272727273], [0.7272727272727273, 0.42, 1.1875, 0.7272727272727273], [], [], [], [], [], [], [], [], [], [], [], [], [], [], [], [], [], [], [], [], [], [], [], [], [], [], [], [], [], [], [], [], [], [], [], [], [], [], [], [], [], [], [], [], [], [], [], [], [], [], [], [], [], [], [], [], [], [], [], [], [], [], [], [], [], [], [], [], [], [], [], [], [], [], [], []]\n",
      "total gear ratios [0.6099298419614982, 0.110680162709299, 0.3187922208839547, 0.1542304957517281, 0.09435483870967741, 0.483527145555295, 0.412206891585889, 1.6301398955829054, 4.166921192584628, 2.015941039930989, 0.5607148133342601, 0.10174941854585902, 0.29306898650918045, 0.14178569023245072, 0.08674137931034481, 0.24578183912861334, 0.20952901785714287]\n",
      "43.0 60.0\n",
      "59.0 49.0\n",
      "54.0 16.0\n",
      "42.0 62.0\n",
      "21.0 50.0\n",
      "gear ratios list [[1.0483870967741935, 1.0483870967741935, 1.0483870967741935, 1.0483870967741935, 1.0483870967741935, 1.0483870967741935, 1.0483870967741935, 1.0483870967741935, 1.0483870967741935, 1.0483870967741935, 0.7166666666666667, 0.7166666666666667, 0.7166666666666667, 0.7166666666666667, 0.7166666666666667, 0.7166666666666667, 0.7166666666666667, 0.7166666666666667], [0.21428571428571427, 0.21428571428571427, 0.21428571428571427, 0.21428571428571427, 0.21428571428571427, 1.3448275862068966, 1.3448275862068966, 1.3448275862068966, 1.3448275862068966, 1.3448275862068966, 1.3448275862068966, 1.3448275862068966, 1.3448275862068966, 1.3448275862068966, 1.3448275862068966, 1.2040816326530612, 1.2040816326530612, 1.2040816326530612], [0.6774193548387096, 0.6774193548387096, 0.578125, 0.578125, 0.42, 1.2040816326530612, 1.2040816326530612, 1.2040816326530612, 1.2040816326530612, 1.2040816326530612, 0.21428571428571427, 0.21428571428571427, 0.21428571428571427, 0.21428571428571427, 0.21428571428571427, 0.578125, 0.578125, 3.375], [3.375, 0.7272727272727273, 3.375, 1.1875, 0.578125, 0.578125, 3.375, 3.375, 1.1875, 0.6774193548387096, 0.6774193548387096, 0.578125, 0.578125, 0.42, 0.6774193548387096, 0.42, 0.6774193548387096], [1.1875, 0.7272727272727273, 0.6774193548387096, 0.42, 0.6774193548387096, 0.7272727272727273, 3.375, 0.7272727272727273, 3.375, 1.1875, 0.7272727272727273, 0.42], [0.7272727272727273, 0.42, 1.1875, 0.7272727272727273], [], [], [], [], [], [], [], [], [], [], [], [], [], [], [], [], [], [], [], [], [], [], [], [], [], [], [], [], [], [], [], [], [], [], [], [], [], [], [], [], [], [], [], [], [], [], [], [], [], [], [], [], [], [], [], [], [], [], [], [], [], [], [], [], [], [], [], [], [], [], [], [], [], [], [], [], [], [], [], [], []]\n",
      "total gear ratios [0.6099298419614982, 0.110680162709299, 0.3187922208839547, 0.1542304957517281, 0.09435483870967741, 0.483527145555295, 0.412206891585889, 1.6301398955829054, 4.166921192584628, 2.015941039930989, 0.5607148133342601, 0.10174941854585902, 0.29306898650918045, 0.14178569023245072, 0.08674137931034481, 0.24578183912861334, 0.20952901785714287, 0.8286169354838709]\n",
      "43.0 60.0\n",
      "59.0 49.0\n",
      "54.0 16.0\n",
      "24.0 33.0\n",
      "gear ratios list [[1.0483870967741935, 1.0483870967741935, 1.0483870967741935, 1.0483870967741935, 1.0483870967741935, 1.0483870967741935, 1.0483870967741935, 1.0483870967741935, 1.0483870967741935, 1.0483870967741935, 0.7166666666666667, 0.7166666666666667, 0.7166666666666667, 0.7166666666666667, 0.7166666666666667, 0.7166666666666667, 0.7166666666666667, 0.7166666666666667, 0.7166666666666667], [0.21428571428571427, 0.21428571428571427, 0.21428571428571427, 0.21428571428571427, 0.21428571428571427, 1.3448275862068966, 1.3448275862068966, 1.3448275862068966, 1.3448275862068966, 1.3448275862068966, 1.3448275862068966, 1.3448275862068966, 1.3448275862068966, 1.3448275862068966, 1.3448275862068966, 1.2040816326530612, 1.2040816326530612, 1.2040816326530612, 1.2040816326530612], [0.6774193548387096, 0.6774193548387096, 0.578125, 0.578125, 0.42, 1.2040816326530612, 1.2040816326530612, 1.2040816326530612, 1.2040816326530612, 1.2040816326530612, 0.21428571428571427, 0.21428571428571427, 0.21428571428571427, 0.21428571428571427, 0.21428571428571427, 0.578125, 0.578125, 3.375, 3.375], [3.375, 0.7272727272727273, 3.375, 1.1875, 0.578125, 0.578125, 3.375, 3.375, 1.1875, 0.6774193548387096, 0.6774193548387096, 0.578125, 0.578125, 0.42, 0.6774193548387096, 0.42, 0.6774193548387096, 0.7272727272727273], [1.1875, 0.7272727272727273, 0.6774193548387096, 0.42, 0.6774193548387096, 0.7272727272727273, 3.375, 0.7272727272727273, 3.375, 1.1875, 0.7272727272727273, 0.42], [0.7272727272727273, 0.42, 1.1875, 0.7272727272727273], [], [], [], [], [], [], [], [], [], [], [], [], [], [], [], [], [], [], [], [], [], [], [], [], [], [], [], [], [], [], [], [], [], [], [], [], [], [], [], [], [], [], [], [], [], [], [], [], [], [], [], [], [], [], [], [], [], [], [], [], [], [], [], [], [], [], [], [], [], [], [], [], [], [], [], [], [], [], [], [], [], [], [], [], []]\n",
      "total gear ratios [0.6099298419614982, 0.110680162709299, 0.3187922208839547, 0.1542304957517281, 0.09435483870967741, 0.483527145555295, 0.412206891585889, 1.6301398955829054, 4.166921192584628, 2.015941039930989, 0.5607148133342601, 0.10174941854585902, 0.29306898650918045, 0.14178569023245072, 0.08674137931034481, 0.24578183912861334, 0.20952901785714287, 0.8286169354838709, 2.11808905380334]\n",
      "43.0 60.0\n",
      "59.0 49.0\n",
      "57.0 48.0\n",
      "gear ratios list [[1.0483870967741935, 1.0483870967741935, 1.0483870967741935, 1.0483870967741935, 1.0483870967741935, 1.0483870967741935, 1.0483870967741935, 1.0483870967741935, 1.0483870967741935, 1.0483870967741935, 0.7166666666666667, 0.7166666666666667, 0.7166666666666667, 0.7166666666666667, 0.7166666666666667, 0.7166666666666667, 0.7166666666666667, 0.7166666666666667, 0.7166666666666667, 0.7166666666666667], [0.21428571428571427, 0.21428571428571427, 0.21428571428571427, 0.21428571428571427, 0.21428571428571427, 1.3448275862068966, 1.3448275862068966, 1.3448275862068966, 1.3448275862068966, 1.3448275862068966, 1.3448275862068966, 1.3448275862068966, 1.3448275862068966, 1.3448275862068966, 1.3448275862068966, 1.2040816326530612, 1.2040816326530612, 1.2040816326530612, 1.2040816326530612, 1.2040816326530612], [0.6774193548387096, 0.6774193548387096, 0.578125, 0.578125, 0.42, 1.2040816326530612, 1.2040816326530612, 1.2040816326530612, 1.2040816326530612, 1.2040816326530612, 0.21428571428571427, 0.21428571428571427, 0.21428571428571427, 0.21428571428571427, 0.21428571428571427, 0.578125, 0.578125, 3.375, 3.375, 1.1875], [3.375, 0.7272727272727273, 3.375, 1.1875, 0.578125, 0.578125, 3.375, 3.375, 1.1875, 0.6774193548387096, 0.6774193548387096, 0.578125, 0.578125, 0.42, 0.6774193548387096, 0.42, 0.6774193548387096, 0.7272727272727273], [1.1875, 0.7272727272727273, 0.6774193548387096, 0.42, 0.6774193548387096, 0.7272727272727273, 3.375, 0.7272727272727273, 3.375, 1.1875, 0.7272727272727273, 0.42], [0.7272727272727273, 0.42, 1.1875, 0.7272727272727273], [], [], [], [], [], [], [], [], [], [], [], [], [], [], [], [], [], [], [], [], [], [], [], [], [], [], [], [], [], [], [], [], [], [], [], [], [], [], [], [], [], [], [], [], [], [], [], [], [], [], [], [], [], [], [], [], [], [], [], [], [], [], [], [], [], [], [], [], [], [], [], [], [], [], [], [], [], [], [], [], [], [], [], [], [], [], [], []]\n",
      "total gear ratios [0.6099298419614982, 0.110680162709299, 0.3187922208839547, 0.1542304957517281, 0.09435483870967741, 0.483527145555295, 0.412206891585889, 1.6301398955829054, 4.166921192584628, 2.015941039930989, 0.5607148133342601, 0.10174941854585902, 0.29306898650918045, 0.14178569023245072, 0.08674137931034481, 0.24578183912861334, 0.20952901785714287, 0.8286169354838709, 2.11808905380334, 1.0247236394557824]\n",
      "[[0, 2, 3, 4, 5, 7], [0, 2, 3, 4, 7], [0, 2, 3, 5, 4, 7], [0, 2, 3, 5, 7], [0, 2, 3, 7], [0, 2, 6, 5, 3, 4, 7], [0, 2, 6, 5, 3, 7], [0, 2, 6, 5, 4, 3, 7], [0, 2, 6, 5, 4, 7], [0, 2, 6, 5, 7], [0, 6, 2, 3, 4, 5, 7], [0, 6, 2, 3, 4, 7], [0, 6, 2, 3, 5, 4, 7], [0, 6, 2, 3, 5, 7], [0, 6, 2, 3, 7], [0, 6, 5, 3, 4, 7], [0, 6, 5, 3, 7], [0, 6, 5, 4, 3, 7], [0, 6, 5, 4, 7], [0, 6, 5, 7]]\n"
     ]
    }
   ],
   "source": [
    "\n",
    "\n",
    "A = generate_random_gear_box(n=None, Max_N = 10, Min_N = 3, C_prob = 0.1)\n",
    "while not (np.where(A[:,0,0])[0].any() or np.where(A[0,:,0])[0].any()):\n",
    "       A = generate_random_gear_box(n=None, Max_N = 10, Min_N = 3, C_prob = 0.1)"
   ]
  },
  {
   "cell_type": "code",
   "execution_count": 439,
   "id": "bdfdca8b",
   "metadata": {},
   "outputs": [
    {
     "name": "stdout",
     "output_type": "stream",
     "text": [
      "[[0 0 1 0 0 0 1 0]\n",
      " [0 0 0 0 1 0 0 0]\n",
      " [1 0 0 1 0 0 1 0]\n",
      " [0 0 1 0 1 1 0 1]\n",
      " [0 1 0 1 0 1 0 1]\n",
      " [0 0 0 1 1 0 1 1]\n",
      " [1 0 1 0 0 1 0 0]\n",
      " [0 0 0 1 1 1 0 0]]\n"
     ]
    }
   ],
   "source": [
    "print(A[:,:,0].astype(int))"
   ]
  },
  {
   "cell_type": "code",
   "execution_count": null,
   "id": "bc1e37a5",
   "metadata": {},
   "outputs": [],
   "source": []
  },
  {
   "cell_type": "code",
   "execution_count": null,
   "id": "d7fbc892",
   "metadata": {},
   "outputs": [],
   "source": []
  },
  {
   "cell_type": "code",
   "execution_count": null,
   "id": "e005fd8d",
   "metadata": {},
   "outputs": [],
   "source": []
  },
  {
   "cell_type": "code",
   "execution_count": null,
   "id": "9dab6c66",
   "metadata": {},
   "outputs": [],
   "source": []
  }
 ],
 "metadata": {
  "kernelspec": {
   "display_name": "Python 3 (ipykernel)",
   "language": "python",
   "name": "python3"
  },
  "language_info": {
   "codemirror_mode": {
    "name": "ipython",
    "version": 3
   },
   "file_extension": ".py",
   "mimetype": "text/x-python",
   "name": "python",
   "nbconvert_exporter": "python",
   "pygments_lexer": "ipython3",
   "version": "3.9.12"
  }
 },
 "nbformat": 4,
 "nbformat_minor": 5
}
