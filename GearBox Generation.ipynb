{
 "cells": [
  {
   "cell_type": "code",
   "execution_count": 160,
   "id": "1544d490",
   "metadata": {},
   "outputs": [],
   "source": [
    "# Import necessary libraries\n",
    "import numpy as np\n",
    "import scipy.sparse as sp\n",
    "import scipy.stats as ss\n",
    "import math\n",
    "\n",
    "num_edge_features = 5\n",
    "num_node_features = 3\n",
    "connect_prob = 0.1"
   ]
  },
  {
   "cell_type": "code",
   "execution_count": 161,
   "id": "73b0bb5a",
   "metadata": {},
   "outputs": [],
   "source": [
    "# Lists of ISO standard modules and tooth numbers\n",
    "\n",
    "modules = [0.1, 0.2, 0.3, 0.4, 0.5, 0.6, 0.8, 1, 1.25, 1.5, 2, 2.5, 3, 4, 5, 6, 8, 10, 12, 16, 20, 25, 32, 40, 50,\n",
    "           0.15, 0.25, 0.35, 0.45, 0.55, 0.7, 0.75, 0.9, 1.75, 2.25, 2.75, 3.5, 4.5, 5.5, 7, 9, 11, 14, 18, 22, 28, 36, 45,\n",
    "           0.65, 3.25, 3.75, 6.5]\n",
    "teeth = [12, 13, 14, 15, 16, 17, 18, 19, 20, 21, 22, 23, 24, 25, 26, 27, 28, 29, 30, 31, 32, 33, 34, 35, 36, 37, 38, 39, 40, \n",
    "         41, 42, 43, 44, 45, 46, 47, 48, 49, 50, 51, 52, 53, 54, 55, 56, 57, 58, 59, 60, 61, 62, 63, 64, 65, 66, 67, 68, 69,\n",
    "         70, 72, 75, 76, 80, 85, 90, 95, 100, 110, 114, 120, 127]"
   ]
  },
  {
   "cell_type": "code",
   "execution_count": 162,
   "id": "283554f3",
   "metadata": {},
   "outputs": [],
   "source": [
    "# Import necessary libraries\n",
    "import numpy as np\n",
    "import scipy.sparse as sp\n",
    "import scipy.stats as ss\n",
    "import math as math\n",
    "\n",
    "ef = 5\n",
    "nf = 3\n",
    "connect_prob = 0.1\n",
    "\n",
    "# Lists of ISO standard modules and tooth numbers\n",
    "\n",
    "modules = [0.1, 0.2, 0.3, 0.4, 0.5, 0.6, 0.8, 1, 1.25, 1.5, 2, 2.5, 3, 4, 5, 6, 8, 10, 12, 16, 20, 25, 32, 40, 50,\n",
    "           0.15, 0.25, 0.35, 0.45, 0.55, 0.7, 0.75, 0.9, 1.75, 2.25, 2.75, 3.5, 4.5, 5.5, 7, 9, 11, 14, 18, 22, 28, 36, 45,\n",
    "           0.65, 3.25, 3.75, 6.5]\n",
    "teeth = [12, 13, 14, 15, 16, 17, 18, 19, 20, 21, 22, 23, 24, 25, 26, 27, 28, 29, 30, 31, 32, 33, 34, 35, 36, 37, 38, 39, 40, \n",
    "         41, 42, 43, 44, 45, 46, 47, 48, 49, 50, 51, 52, 53, 54, 55, 56, 57, 58, 59, 60, 61, 62, 63, 64, 65, 66, 67, 68, 69,\n",
    "         70, 72, 75, 76, 80, 85, 90, 95, 100, 110, 114, 120, 127]\n",
    "\n",
    "# Choose int in a range from a normal distribution\n",
    "def normRange(low, high):\n",
    "    x = np.arange(low, high+1)\n",
    "    xU, xL = x + 0.5, x - 0.5 \n",
    "    prob = ss.norm.cdf(xU, loc = ((low+high)/2), scale = ((high-low)/5)) - ss.norm.cdf(xL, loc = ((low+high)/2), scale = ((high-low)/6))\n",
    "    prob = prob / prob.sum() # normalize the probabilities so their sum is 1\n",
    "    \n",
    "    return np.random.choice(x, p = prob)\n",
    "\n",
    "\n",
    "\n"
   ]
  },
  {
   "cell_type": "code",
   "execution_count": 163,
   "id": "ecc2e640",
   "metadata": {},
   "outputs": [],
   "source": [
    "def check_redundant(A,i):\n",
    "    v_ne = list(np.where(A[i,:,0])[0])\n",
    "    v_ne = list(set(v_ne))\n",
    "    \n",
    "    n_ne = len(v_ne)\n",
    "    \n",
    "    while True:\n",
    "        if 0 in v_ne and A.shape[0]-1 in v_ne:\n",
    "            return False\n",
    "        else:\n",
    "            v_ne += list(np.where(A[v_ne,:,0])[1])\n",
    "            v_ne = list(set(v_ne))\n",
    "            \n",
    "        if len(v_ne) == n_ne:\n",
    "            return True\n",
    "        else:\n",
    "            n_ne = len(v_ne)"
   ]
  },
  {
   "cell_type": "code",
   "execution_count": 164,
   "id": "957d869d",
   "metadata": {},
   "outputs": [],
   "source": [
    "def get_paths(A, u, n, visited, path, npaths):\n",
    "    # Mark the current node as visited and store in path\n",
    "    visited[u] = True\n",
    "    path.append(u)\n",
    "    # If current vertex is same as destination, then print\n",
    "    # current path[]\n",
    "    if u == n - 1:\n",
    "        print(path)\n",
    "        npaths.append(list(path))\n",
    "    else:\n",
    "        # If current vertex is not destination\n",
    "        # Recur for all the vertices adjacent to this vertex\n",
    "        for i in list(np.where(A[u,:,0])[0]):\n",
    "            if visited[i] == False:\n",
    "                get_paths(A, i, n, visited, path, npaths)\n",
    "    # Remove current vertex from path[] and mark it as unvisited\n",
    "    path.pop()\n",
    "    visited[u]= False"
   ]
  },
  {
   "cell_type": "code",
   "execution_count": 165,
   "id": "d08d4351-b020-4f77-9b6c-1e59c73bbe01",
   "metadata": {},
   "outputs": [],
   "source": [
    "def check_locking(A,n):\n",
    "    visited = [False]*(n)\n",
    "    path = []\n",
    "    npaths = []\n",
    "    grs = []\n",
    "    get_paths(A, 0, n, visited, path, npaths)\n",
    "    for i in npaths:\n",
    "        for j in range(len(i)):\n",
    "            gr = 0\n",
    "            if j < len(i)-1:\n",
    "                gr += (A[i[j], i[j+1], 3])/(A[i[j], i[j+1], 2])\n",
    "                print(A[i[j], i[j+1], 3], A[i[j], i[j+1], 2])\n",
    "                grs.append(gr)\n",
    "                print(grs)                \n",
    "    return npaths"
   ]
  },
  {
   "cell_type": "code",
   "execution_count": 166,
   "id": "bcaf3462",
   "metadata": {},
   "outputs": [],
   "source": [
    "def generate_random_gear_box(n=None, Max_N = 10, Min_N = 3, C_prob = 0.1):\n",
    "    if n is None:\n",
    "        n = np.random.randint(low=Min_N,high=Max_N+1)\n",
    "\n",
    "    # Instantiate adjacency matrix  \n",
    "    A = np.zeros((n, n, 6))\n",
    "\n",
    "    # Loop through the edges in the graph and assign their features\n",
    "    for i in range(n):\n",
    "        connected = False\n",
    "        while not connected:\n",
    "            for j in range(n):\n",
    "                if (i != j) and (np.random.uniform() <= connect_prob) and not (i==0 and j==n-1) and not (j==0 and i==n-1):\n",
    "                    m = np.random.choice(modules) # module in mm\n",
    "                    t1 = np.random.choice(teeth) # tooth of gear 1\n",
    "                    t2 = np.random.choice(teeth) # tooth of gear 2\n",
    "                    alpha = math.pi/9 # pressure angle in radians\n",
    "                    fw = (m*(t1+t2))/2 # face width in mm\n",
    "\n",
    "                    A[i,j,0] = 1\n",
    "                    A[i,j,1] = m\n",
    "                    A[i,j,2] = t1\n",
    "                    A[i,j,3] = t2\n",
    "                    A[i,j,4] = alpha\n",
    "                    A[i,j,5] = fw\n",
    "                    A[j,i,:] = A[i,j,:]\n",
    "                    connected = True\n",
    "    \n",
    "    # Instantiate an empty node feature matrix with the desired shape\n",
    "    N = np.zeros((n, nf))\n",
    "    # Loop through the nodes in the graph and assign their features\n",
    "    x0 = 0\n",
    "    y0 = 0\n",
    "    for i in range(n):\n",
    "        # Set origin to input shaft\n",
    "        if i == 0:\n",
    "            x = 0\n",
    "            y = 0\n",
    "            theta = 0\n",
    "        else:\n",
    "            #loop until there's a connection, and get relative position\n",
    "            for j in range(n):\n",
    "                if A[i-1,j-1,0] == 1:\n",
    "                    ctc = A[i,j,1]*(A[i,j,2]+A[i,j,3]) # center to center distance = m*(t1+t2)\n",
    "                    theta = np.random.uniform(2*math.pi)\n",
    "                    x = x0 + ctc * math.sin(theta)\n",
    "                    y = y0 + ctc * math.cos(theta)\n",
    "        x0 = x\n",
    "        y0 = y\n",
    "\n",
    "    redundant_shafts = []\n",
    "    for i in range(1,n-1):\n",
    "        if check_redundant(A,i):\n",
    "            redundant_shafts.append(i)\n",
    "            \n",
    "    non_redundant = np.arange(n)\n",
    "    non_redundant = non_redundant[np.logical_not(np.isin(non_redundant,redundant_shafts))]\n",
    "    \n",
    "    A = A[non_redundant,:,:][:,non_redundant,:]\n",
    "    \n",
    "    print(check_locking(A,n))\n",
    "    #if check_locking(A,n):\n",
    "    #    return generate_random_gear_box(n, Max_N, Min_N, C_prob)\n",
    "\n",
    "    \n",
    "    return A"
   ]
  },
  {
   "cell_type": "code",
   "execution_count": 167,
   "id": "6b120d94",
   "metadata": {},
   "outputs": [
    {
     "name": "stdout",
     "output_type": "stream",
     "text": [
      "[0, 2, 5, 4, 6]\n",
      "[0, 2, 5, 6]\n",
      "[0, 4, 5, 6]\n",
      "[0, 4, 6]\n",
      "43.0 39.0\n",
      "1.1025641025641026\n",
      "16.0 72.0\n",
      "0.2222222222222222\n",
      "72.0 56.0\n",
      "1.2857142857142858\n",
      "28.0 64.0\n",
      "0.4375\n",
      "43.0 39.0\n",
      "1.1025641025641026\n",
      "16.0 72.0\n",
      "0.2222222222222222\n",
      "20.0 50.0\n",
      "0.4\n",
      "43.0 68.0\n",
      "0.6323529411764706\n",
      "72.0 56.0\n",
      "1.2857142857142858\n",
      "20.0 50.0\n",
      "0.4\n",
      "43.0 68.0\n",
      "0.6323529411764706\n",
      "28.0 64.0\n",
      "0.4375\n",
      "[[0, 2, 5, 4, 6], [0, 2, 5, 6], [0, 4, 5, 6], [0, 4, 6]]\n"
     ]
    }
   ],
   "source": [
    "\n",
    "\n",
    "A = generate_random_gear_box(n=None, Max_N = 10, Min_N = 3, C_prob = 0.1)\n",
    "while not (np.where(A[:,0,0])[0].any() or np.where(A[0,:,0])[0].any()):\n",
    "       A = generate_random_gear_box(n=None, Max_N = 10, Min_N = 3, C_prob = 0.1)"
   ]
  },
  {
   "cell_type": "code",
   "execution_count": 168,
   "id": "bdfdca8b",
   "metadata": {},
   "outputs": [
    {
     "name": "stdout",
     "output_type": "stream",
     "text": [
      "[[0 0 1 0 1 0 0]\n",
      " [0 0 0 0 1 0 0]\n",
      " [1 0 0 0 0 1 0]\n",
      " [0 0 0 0 0 1 0]\n",
      " [1 1 0 0 0 1 1]\n",
      " [0 0 1 1 1 0 1]\n",
      " [0 0 0 0 1 1 0]]\n"
     ]
    }
   ],
   "source": [
    "print(A[:,:,0].astype(int))"
   ]
  },
  {
   "cell_type": "code",
   "execution_count": 169,
   "id": "bc1e37a5",
   "metadata": {},
   "outputs": [
    {
     "ename": "NameError",
     "evalue": "name 'n' is not defined",
     "output_type": "error",
     "traceback": [
      "\u001b[0;31m---------------------------------------------------------------------------\u001b[0m",
      "\u001b[0;31mNameError\u001b[0m                                 Traceback (most recent call last)",
      "Cell \u001b[0;32mIn[169], line 1\u001b[0m\n\u001b[0;32m----> 1\u001b[0m visited \u001b[39m=\u001b[39m [\u001b[39mFalse\u001b[39;00m]\u001b[39m*\u001b[39m(n)\n\u001b[1;32m      2\u001b[0m path \u001b[39m=\u001b[39m []\n\u001b[1;32m      3\u001b[0m npaths \u001b[39m=\u001b[39m []\n",
      "\u001b[0;31mNameError\u001b[0m: name 'n' is not defined"
     ]
    }
   ],
   "source": [
    "visited = [False]*(n)\n",
    "path = []\n",
    "npaths = []\n",
    "grs = []\n",
    "get_paths(A, 0, n, visited, path, npaths)\n",
    "for i in npaths:\n",
    "    for j in i:\n",
    "        gr = 0\n",
    "        for k in range(len(j)):\n",
    "            if k < len(j)-1:\n",
    "                gr += A[k, k+1, 3]/A[k, k+1, 4]\n",
    "                grs.append(gr)\n",
    "                "
   ]
  },
  {
   "cell_type": "code",
   "execution_count": null,
   "id": "d7fbc892",
   "metadata": {},
   "outputs": [],
   "source": []
  },
  {
   "cell_type": "code",
   "execution_count": null,
   "id": "e005fd8d",
   "metadata": {},
   "outputs": [],
   "source": []
  },
  {
   "cell_type": "code",
   "execution_count": null,
   "id": "9dab6c66",
   "metadata": {},
   "outputs": [],
   "source": []
  }
 ],
 "metadata": {
  "kernelspec": {
   "display_name": "Python 3 (ipykernel)",
   "language": "python",
   "name": "python3"
  },
  "language_info": {
   "codemirror_mode": {
    "name": "ipython",
    "version": 3
   },
   "file_extension": ".py",
   "mimetype": "text/x-python",
   "name": "python",
   "nbconvert_exporter": "python",
   "pygments_lexer": "ipython3",
   "version": "3.11.2"
  }
 },
 "nbformat": 4,
 "nbformat_minor": 5
}
